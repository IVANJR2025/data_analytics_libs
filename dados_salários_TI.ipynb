{
  "nbformat": 4,
  "nbformat_minor": 0,
  "metadata": {
    "colab": {
      "provenance": [],
      "authorship_tag": "ABX9TyMrfF7zm+I1Xd90qhDj+utJ",
      "include_colab_link": true
    },
    "kernelspec": {
      "name": "python3",
      "display_name": "Python 3"
    },
    "language_info": {
      "name": "python"
    }
  },
  "cells": [
    {
      "cell_type": "markdown",
      "metadata": {
        "id": "view-in-github",
        "colab_type": "text"
      },
      "source": [
        "<a href=\"https://colab.research.google.com/github/IVANJR2025/data_analytics_libs/blob/main/dados_sal%C3%A1rios_TI.ipynb\" target=\"_parent\"><img src=\"https://colab.research.google.com/assets/colab-badge.svg\" alt=\"Open In Colab\"/></a>"
      ]
    },
    {
      "cell_type": "markdown",
      "source": [
        "ABRINDO UM ARQUIVO DA BASE DE DADOS DO KAGGLE, PARA TRATAR ESTA BASE. A MESMA SE REFERE A PROFISSÕES EM TI, EMPRESAS E RESPECTIVOS SALÁRIOS"
      ],
      "metadata": {
        "id": "G7gvHJZcuO0u"
      }
    },
    {
      "cell_type": "code",
      "execution_count": 3,
      "metadata": {
        "id": "2MFFCrKflXPE"
      },
      "outputs": [],
      "source": [
        "file_ = open(\"/content/Dataset salary 2024.csv\")\n",
        "lines = []\n",
        "\n",
        "for line in file_:\n",
        "  lines.append(line)\n",
        "\n"
      ]
    },
    {
      "cell_type": "code",
      "source": [
        "lines[:10]"
      ],
      "metadata": {
        "colab": {
          "base_uri": "https://localhost:8080/"
        },
        "id": "P62cNyn9v-Tz",
        "outputId": "9c1ce4a5-d022-4c98-8da8-610282499b5c"
      },
      "execution_count": 18,
      "outputs": [
        {
          "output_type": "execute_result",
          "data": {
            "text/plain": [
              "['work_year,experience_level,employment_type,job_title,salary,salary_currency,salary_in_usd,employee_residence,remote_ratio,company_location,company_size\\n',\n",
              " '2024,SE,FT,AI Engineer,202730,USD,202730,US,0,US,M\\n',\n",
              " '2024,SE,FT,AI Engineer,92118,USD,92118,US,0,US,M\\n',\n",
              " '2024,SE,FT,Data Engineer,130500,USD,130500,US,0,US,M\\n',\n",
              " '2024,SE,FT,Data Engineer,96000,USD,96000,US,0,US,M\\n',\n",
              " '2024,SE,FT,Machine Learning Engineer,190000,USD,190000,US,0,US,M\\n',\n",
              " '2024,SE,FT,Machine Learning Engineer,160000,USD,160000,US,0,US,M\\n',\n",
              " '2024,MI,FT,ML Engineer,400000,USD,400000,US,0,US,M\\n',\n",
              " '2024,MI,FT,ML Engineer,65000,USD,65000,US,0,US,M\\n',\n",
              " '2024,EN,FT,Data Analyst,101520,USD,101520,US,0,US,M\\n']"
            ]
          },
          "metadata": {},
          "execution_count": 18
        }
      ]
    },
    {
      "cell_type": "code",
      "source": [
        "fields = lines[0].split(\",\")\n",
        "lines = lines[1:]\n",
        "fields"
      ],
      "metadata": {
        "colab": {
          "base_uri": "https://localhost:8080/"
        },
        "id": "vLutdGTawKsE",
        "outputId": "31f2b23d-9790-408d-9138-b2037d7b6db7"
      },
      "execution_count": 4,
      "outputs": [
        {
          "output_type": "execute_result",
          "data": {
            "text/plain": [
              "['work_year',\n",
              " 'experience_level',\n",
              " 'employment_type',\n",
              " 'job_title',\n",
              " 'salary',\n",
              " 'salary_currency',\n",
              " 'salary_in_usd',\n",
              " 'employee_residence',\n",
              " 'remote_ratio',\n",
              " 'company_location',\n",
              " 'company_size\\n']"
            ]
          },
          "metadata": {},
          "execution_count": 4
        }
      ]
    },
    {
      "cell_type": "code",
      "source": [
        "#Como percebemos, a última linha possui o símbolo de \"pular linha, ou seja, o n\" Irei tratar essa última linha\n",
        "#para retirar este \"n\""
      ],
      "metadata": {
        "id": "-lRIqu3vulXE"
      },
      "execution_count": 6,
      "outputs": []
    },
    {
      "cell_type": "code",
      "source": [
        "fields[-1][:-1]"
      ],
      "metadata": {
        "colab": {
          "base_uri": "https://localhost:8080/",
          "height": 35
        },
        "id": "Sj6CMPnNwYgi",
        "outputId": "89e2002b-42e1-46fd-8bce-8203ebb77761"
      },
      "execution_count": 5,
      "outputs": [
        {
          "output_type": "execute_result",
          "data": {
            "text/plain": [
              "'company_size'"
            ],
            "application/vnd.google.colaboratory.intrinsic+json": {
              "type": "string"
            }
          },
          "metadata": {},
          "execution_count": 5
        }
      ]
    },
    {
      "cell_type": "code",
      "source": [
        "fields[-1] = fields[-1][:-1]\n"
      ],
      "metadata": {
        "id": "yWk37twnxHjC"
      },
      "execution_count": 21,
      "outputs": []
    },
    {
      "cell_type": "code",
      "source": [
        "fields"
      ],
      "metadata": {
        "colab": {
          "base_uri": "https://localhost:8080/"
        },
        "id": "eLS0QqOzxT87",
        "outputId": "43b290df-83a8-494b-ecf5-30b212e12df1"
      },
      "execution_count": 6,
      "outputs": [
        {
          "output_type": "execute_result",
          "data": {
            "text/plain": [
              "['work_year',\n",
              " 'experience_level',\n",
              " 'employment_type',\n",
              " 'job_title',\n",
              " 'salary',\n",
              " 'salary_currency',\n",
              " 'salary_in_usd',\n",
              " 'employee_residence',\n",
              " 'remote_ratio',\n",
              " 'company_location',\n",
              " 'company_size\\n']"
            ]
          },
          "metadata": {},
          "execution_count": 6
        }
      ]
    },
    {
      "cell_type": "markdown",
      "source": [
        "Agora irei criar um dicionário de forma que, cada instância dos meus dados, possa ser alimentada com alguma informação"
      ],
      "metadata": {
        "id": "O8thNZ6tzu1s"
      }
    },
    {
      "cell_type": "code",
      "source": [
        "dados = {} #criando o dicionário\n",
        "\n",
        "#criando as chaves dos dicionários\n",
        "for campo in fields:\n",
        "  dados[campo] = []\n"
      ],
      "metadata": {
        "id": "Cy5X3riYz6qg"
      },
      "execution_count": 7,
      "outputs": []
    },
    {
      "cell_type": "code",
      "source": [
        "dados"
      ],
      "metadata": {
        "colab": {
          "base_uri": "https://localhost:8080/"
        },
        "id": "7IVUgAmv0WJv",
        "outputId": "0ab3ba86-7af2-4181-9094-aef19f126278"
      },
      "execution_count": 8,
      "outputs": [
        {
          "output_type": "execute_result",
          "data": {
            "text/plain": [
              "{'work_year': [],\n",
              " 'experience_level': [],\n",
              " 'employment_type': [],\n",
              " 'job_title': [],\n",
              " 'salary': [],\n",
              " 'salary_currency': [],\n",
              " 'salary_in_usd': [],\n",
              " 'employee_residence': [],\n",
              " 'remote_ratio': [],\n",
              " 'company_location': [],\n",
              " 'company_size\\n': []}"
            ]
          },
          "metadata": {},
          "execution_count": 8
        }
      ]
    },
    {
      "cell_type": "code",
      "source": [
        "#Preenchendo os dicionários com dados\n",
        "for line in lines:\n",
        "  infos = line.split(',')\n",
        "\n",
        "  if len(infos) != len(fields):\n",
        "    pass\n",
        "  else:\n",
        "    for i in range(len(fields)):\n",
        "      if i == len(fields) - 1:\n",
        "        infos[i] = infos[i][:-1]\n",
        "      dados[fields[i]].append(infos[i])\n"
      ],
      "metadata": {
        "id": "pcBzEpQL0itY"
      },
      "execution_count": 9,
      "outputs": []
    },
    {
      "cell_type": "code",
      "source": [
        "dados.keys()"
      ],
      "metadata": {
        "colab": {
          "base_uri": "https://localhost:8080/"
        },
        "id": "nXFFkrZM2F3g",
        "outputId": "9abf79d0-9b03-415e-fcac-9b9778b2014a"
      },
      "execution_count": 10,
      "outputs": [
        {
          "output_type": "execute_result",
          "data": {
            "text/plain": [
              "dict_keys(['work_year', 'experience_level', 'employment_type', 'job_title', 'salary', 'salary_currency', 'salary_in_usd', 'employee_residence', 'remote_ratio', 'company_location', 'company_size\\n'])"
            ]
          },
          "metadata": {},
          "execution_count": 10
        }
      ]
    },
    {
      "cell_type": "code",
      "source": [
        "dados['salary'][:10]"
      ],
      "metadata": {
        "colab": {
          "base_uri": "https://localhost:8080/"
        },
        "id": "wXsaLU1d2Yk-",
        "outputId": "64fe11a3-292f-4cc7-d557-f96755d7ff47"
      },
      "execution_count": 11,
      "outputs": [
        {
          "output_type": "execute_result",
          "data": {
            "text/plain": [
              "['202730',\n",
              " '92118',\n",
              " '130500',\n",
              " '96000',\n",
              " '190000',\n",
              " '160000',\n",
              " '400000',\n",
              " '65000',\n",
              " '101520',\n",
              " '45864']"
            ]
          },
          "metadata": {},
          "execution_count": 11
        }
      ]
    },
    {
      "cell_type": "code",
      "source": [
        "#Unificando todo o processo\n",
        "\n",
        "file_ = open(\"/content/Dataset salary 2024.csv\") #Abrir o arquivo\n",
        "lines = [] #Criando uma lista para armazenar cada linha de dados do arquivo\n",
        "\n",
        "#Armazenar as linhas do arquivo\n",
        "for line in file_:\n",
        "  lines.append(line)\n",
        "\n",
        "fields = lines[0].split(',') #Extraindo dados da primeira linha como títulos das variáveis\n",
        "lines = lines[1:] #Removendo a primeira linha\n",
        "fields[-1] = fields[-1][:-1] #Removendo o \"n\" da última linha\n",
        "\n",
        "dados = {} #Criando o dicionário\n",
        "for campo in fields:\n",
        "  dados[campo] = [] #Criando as chaves do dicionário\n",
        "\n",
        "#Preenchendo os dicionários com dados\n",
        "for line in lines:\n",
        "  infos = line.split(',')\n",
        "\n",
        "  if len(infos) != len(fields): #Verificando se os dados estão ok\n",
        "    pass\n",
        "  else:\n",
        "    for i in range(len(fields)):\n",
        "      if i == len(fields) - 1:\n",
        "        infos[i] = infos[i][:-1]\n",
        "      dados[fields[i]].append(infos[i])"
      ],
      "metadata": {
        "id": "lgYCAgIk23ql"
      },
      "execution_count": 12,
      "outputs": []
    },
    {
      "cell_type": "markdown",
      "source": [
        "Agora vamos unificar todo o processo, utilizando uma função, a qual, sempre que eu quiser verificar alguns dados, basta eu chamar a função."
      ],
      "metadata": {
        "id": "92RhppDg5ZDb"
      }
    },
    {
      "cell_type": "code",
      "source": [
        "def read_dataset_salary():\n",
        "\n",
        "  file_ = open(\"/content/Dataset salary 2024.csv\")\n",
        "  lines = []\n",
        "\n",
        "\n",
        "  for line in file_:\n",
        "    lines.append(line)\n",
        "\n",
        "  fields = lines[0].split(',')\n",
        "  lines = lines[1:]\n",
        "  fields[-1] = fields[-1][:-1]\n",
        "\n",
        "  dados = {}\n",
        "  for campo in fields:\n",
        "    dados[campo] = []\n",
        "\n",
        "\n",
        "  for line in lines:\n",
        "    infos = line.split(',')\n",
        "\n",
        "    if len(infos) != len(fields):\n",
        "      pass\n",
        "    else:\n",
        "      for i in range(len(fields)):\n",
        "        if i == len(fields) - 1:\n",
        "          infos[i] = infos[i][:-1]\n",
        "        dados[fields[i]].append(infos[i])\n",
        "  return dados"
      ],
      "metadata": {
        "id": "VaZ4kj0B5YjM"
      },
      "execution_count": 13,
      "outputs": []
    },
    {
      "cell_type": "code",
      "source": [
        "dados = read_dataset_salary()"
      ],
      "metadata": {
        "id": "Gr014ACv7Jwh"
      },
      "execution_count": 14,
      "outputs": []
    },
    {
      "cell_type": "code",
      "source": [
        "dados['salary'][:10]"
      ],
      "metadata": {
        "colab": {
          "base_uri": "https://localhost:8080/"
        },
        "id": "iaB6IrYk7UqK",
        "outputId": "3c7960f4-ec8e-4182-aa96-7aa4effdd82b"
      },
      "execution_count": 15,
      "outputs": [
        {
          "output_type": "execute_result",
          "data": {
            "text/plain": [
              "['202730',\n",
              " '92118',\n",
              " '130500',\n",
              " '96000',\n",
              " '190000',\n",
              " '160000',\n",
              " '400000',\n",
              " '65000',\n",
              " '101520',\n",
              " '45864']"
            ]
          },
          "metadata": {},
          "execution_count": 15
        }
      ]
    },
    {
      "cell_type": "code",
      "source": [
        "#Uma importante prática é a documentação de todas as funções que fazemos. Este processo de chama docstring e se faz da seguinte forma:\n",
        "\n",
        "\"\"\"\n",
        "(pt/br) Esta função ler um arquivo csv e retorna os dados em um dicionário\n",
        ":param name_file: nome do arquivo\n",
        ":param sep: separador de cada variávelutilizado pelo arquivo csv. '.' é o default\n",
        ":return dados: dicionário , onde as chaves são os nomes das variáveis e os dados de cada variável estão armazenados em uma lista\n",
        "\n",
        ">>> dados = read_dataset_salary()\n",
        ">>> dados['salary'][:10]\n",
        "\"\"\""
      ],
      "metadata": {
        "colab": {
          "base_uri": "https://localhost:8080/",
          "height": 87
        },
        "id": "k_x_V6fSljoj",
        "outputId": "13fe1927-73ed-404c-f787-ad65ff4d96b2"
      },
      "execution_count": 1,
      "outputs": [
        {
          "output_type": "execute_result",
          "data": {
            "text/plain": [
              "\"\\n(pt/br) Esta função ler um arquivo csv e retorna os dados em um dicionário \\n:param name_file: nome do arquivo\\n:param sep: separador de cada variávelutilizado pelo arquivo csv. '.' é o default\\n:return dados: dicionário , onde as chaves são os nomes das variáveis e os dados de cada variável estão armazenados em uma lista\\n\\n>>> dados = read_dataset_salary()\\n>>> dados['salary'][:10]\\n\""
            ],
            "application/vnd.google.colaboratory.intrinsic+json": {
              "type": "string"
            }
          },
          "metadata": {},
          "execution_count": 1
        }
      ]
    },
    {
      "cell_type": "markdown",
      "source": [
        "Este meu arquivo apresenta todas as variáveis em str, vamos tratar as que são interiros"
      ],
      "metadata": {
        "id": "5r7VE3GiqBL9"
      }
    },
    {
      "cell_type": "code",
      "source": [
        "ano_tratado = [eval(x) for x in dados['work_year']]\n",
        "ano_tratado[:10]"
      ],
      "metadata": {
        "colab": {
          "base_uri": "https://localhost:8080/"
        },
        "id": "Y8CZNgc9p_IM",
        "outputId": "4f829409-823b-4f99-c837-7d8510784e5a"
      },
      "execution_count": 18,
      "outputs": [
        {
          "output_type": "execute_result",
          "data": {
            "text/plain": [
              "[2024, 2024, 2024, 2024, 2024, 2024, 2024, 2024, 2024, 2024]"
            ]
          },
          "metadata": {},
          "execution_count": 18
        }
      ]
    },
    {
      "cell_type": "code",
      "source": [
        "dados['work_year'] = ano_tratado"
      ],
      "metadata": {
        "id": "wHXetRr9sCXE"
      },
      "execution_count": 19,
      "outputs": []
    },
    {
      "cell_type": "markdown",
      "source": [
        "Se eu tenho um arquivo com diversos outros campos para serem modificados, eu utilizo o conceito de função, para não ter que fazer um por vez"
      ],
      "metadata": {
        "id": "Lwv5lpzgskby"
      }
    },
    {
      "cell_type": "code",
      "source": [
        "def convert_to_number(dados, field):\n",
        "\n",
        "  \"\"\"\n",
        "  Esta função considera um dicionário de uma entrada e uma chava deste dicionário e considerando que o valor seja uma lista con valores de texto,\n",
        "  esta função converte a lista em valores numéricos\n",
        "\n",
        "  :param dados: nome do dicionário\n",
        "  :param field: nome da chave do dicionárioque tem como valor uma lista de números como texto\n",
        "\n",
        "  cuidado: Esta função não tem return, ela modifica o dicionário de entrada\n",
        "  \"\"\"\n",
        "  field_tratado = [eval (x) for x in dados[field]]\n",
        "  dados[field] = field_tratado"
      ],
      "metadata": {
        "id": "v0VulSEqsvu3"
      },
      "execution_count": 20,
      "outputs": []
    },
    {
      "cell_type": "code",
      "source": [
        "dados['salary'][:10]"
      ],
      "metadata": {
        "colab": {
          "base_uri": "https://localhost:8080/"
        },
        "id": "hq0bSiWTu_pp",
        "outputId": "00dbe5e8-5041-4543-ffd5-70f7ba70ddf5"
      },
      "execution_count": 21,
      "outputs": [
        {
          "output_type": "execute_result",
          "data": {
            "text/plain": [
              "['202730',\n",
              " '92118',\n",
              " '130500',\n",
              " '96000',\n",
              " '190000',\n",
              " '160000',\n",
              " '400000',\n",
              " '65000',\n",
              " '101520',\n",
              " '45864']"
            ]
          },
          "metadata": {},
          "execution_count": 21
        }
      ]
    },
    {
      "cell_type": "code",
      "source": [
        "convert_to_number(dados, 'salary')"
      ],
      "metadata": {
        "id": "Ycim_QcrvFIJ"
      },
      "execution_count": 24,
      "outputs": []
    },
    {
      "cell_type": "code",
      "source": [
        "dados['salary'][:10]"
      ],
      "metadata": {
        "colab": {
          "base_uri": "https://localhost:8080/"
        },
        "id": "VMI85n_qvpch",
        "outputId": "7c93e989-d758-43b0-c29f-ece920f5f544"
      },
      "execution_count": 25,
      "outputs": [
        {
          "output_type": "execute_result",
          "data": {
            "text/plain": [
              "[202730, 92118, 130500, 96000, 190000, 160000, 400000, 65000, 101520, 45864]"
            ]
          },
          "metadata": {},
          "execution_count": 25
        }
      ]
    },
    {
      "cell_type": "code",
      "source": [
        "convert_to_number(dados, 'salary_in_usd')"
      ],
      "metadata": {
        "id": "idpkAGTZv5Hm"
      },
      "execution_count": 26,
      "outputs": []
    },
    {
      "cell_type": "code",
      "source": [
        "convert_to_number(dados, 'remote_ratio')"
      ],
      "metadata": {
        "id": "-AcBL_5bv_zH"
      },
      "execution_count": 27,
      "outputs": []
    },
    {
      "cell_type": "code",
      "source": [
        "dados['salary_in_usd'][:5]"
      ],
      "metadata": {
        "colab": {
          "base_uri": "https://localhost:8080/"
        },
        "id": "kxIS4i1XwHef",
        "outputId": "7f375f77-bb53-4ce4-b4fd-3f6af010eb23"
      },
      "execution_count": 28,
      "outputs": [
        {
          "output_type": "execute_result",
          "data": {
            "text/plain": [
              "[202730, 92118, 130500, 96000, 190000]"
            ]
          },
          "metadata": {},
          "execution_count": 28
        }
      ]
    },
    {
      "cell_type": "code",
      "source": [
        "dados['remote_ratio'][:5]"
      ],
      "metadata": {
        "colab": {
          "base_uri": "https://localhost:8080/"
        },
        "id": "FVT9ewpawMdY",
        "outputId": "519a6ea1-ad06-4866-8e03-a5c5b96f9605"
      },
      "execution_count": 29,
      "outputs": [
        {
          "output_type": "execute_result",
          "data": {
            "text/plain": [
              "[0, 0, 0, 0, 0]"
            ]
          },
          "metadata": {},
          "execution_count": 29
        }
      ]
    },
    {
      "cell_type": "markdown",
      "source": [
        "FUNÇÕES LAMBDA. TIPOS DE FUNÇÕES QUE NÃO POSSUEM NOMES\n",
        "Vamos classificar o trabalho como remoto ou não com a seguinte classificação:\n",
        "remoto: 0\n",
        "presencial:100\n",
        "híbrido: 0:100"
      ],
      "metadata": {
        "id": "kO-8cfEGxJTw"
      }
    },
    {
      "cell_type": "code",
      "source": [
        "f = lambda x: 'remoto' if x == 0 else 'presencial' if x == 100 else 'híbrido'"
      ],
      "metadata": {
        "id": "KHChk-atxOfb"
      },
      "execution_count": 32,
      "outputs": []
    },
    {
      "cell_type": "code",
      "source": [
        "f(0)"
      ],
      "metadata": {
        "colab": {
          "base_uri": "https://localhost:8080/",
          "height": 35
        },
        "id": "aBrqgmJI0ae8",
        "outputId": "b94dae4e-8f0b-4913-94e6-fa327c636eaa"
      },
      "execution_count": 33,
      "outputs": [
        {
          "output_type": "execute_result",
          "data": {
            "text/plain": [
              "'remoto'"
            ],
            "application/vnd.google.colaboratory.intrinsic+json": {
              "type": "string"
            }
          },
          "metadata": {},
          "execution_count": 33
        }
      ]
    },
    {
      "cell_type": "code",
      "source": [
        "f(50)"
      ],
      "metadata": {
        "colab": {
          "base_uri": "https://localhost:8080/",
          "height": 35
        },
        "id": "lOjWl4TH0du1",
        "outputId": "b3208017-168c-4c58-bf25-0ddcaf5acc16"
      },
      "execution_count": 34,
      "outputs": [
        {
          "output_type": "execute_result",
          "data": {
            "text/plain": [
              "'híbrido'"
            ],
            "application/vnd.google.colaboratory.intrinsic+json": {
              "type": "string"
            }
          },
          "metadata": {},
          "execution_count": 34
        }
      ]
    },
    {
      "cell_type": "code",
      "source": [
        "dados['remote'] = list(map(lambda x: 'remoto' if x == 0 else 'presencial' if x == 100 else 'híbrido', dados['remote_ratio']))"
      ],
      "metadata": {
        "id": "3Q1ocC2w1DJU"
      },
      "execution_count": 35,
      "outputs": []
    },
    {
      "cell_type": "code",
      "source": [
        "dados['remote'][:10]"
      ],
      "metadata": {
        "colab": {
          "base_uri": "https://localhost:8080/"
        },
        "id": "Q_lW-7aP1SAc",
        "outputId": "08557633-6e49-411a-d8df-cf4fa238d08e"
      },
      "execution_count": 37,
      "outputs": [
        {
          "output_type": "execute_result",
          "data": {
            "text/plain": [
              "['remoto',\n",
              " 'remoto',\n",
              " 'remoto',\n",
              " 'remoto',\n",
              " 'remoto',\n",
              " 'remoto',\n",
              " 'remoto',\n",
              " 'remoto',\n",
              " 'remoto',\n",
              " 'remoto']"
            ]
          },
          "metadata": {},
          "execution_count": 37
        }
      ]
    },
    {
      "cell_type": "markdown",
      "source": [
        "CALCULANDO O R²"
      ],
      "metadata": {
        "id": "UaEH3C7J16G1"
      }
    },
    {
      "cell_type": "code",
      "source": [
        "sqrt = lambda x: x**(1/2)"
      ],
      "metadata": {
        "id": "RHYqTJAD19II"
      },
      "execution_count": 38,
      "outputs": []
    },
    {
      "cell_type": "code",
      "source": [
        "sqrt(100)"
      ],
      "metadata": {
        "colab": {
          "base_uri": "https://localhost:8080/"
        },
        "id": "IlEbyjqh2RZL",
        "outputId": "0b95d95e-5f6d-4b1e-ecba-6134b1754dbb"
      },
      "execution_count": 39,
      "outputs": [
        {
          "output_type": "execute_result",
          "data": {
            "text/plain": [
              "10.0"
            ]
          },
          "metadata": {},
          "execution_count": 39
        }
      ]
    },
    {
      "cell_type": "code",
      "source": [
        "distancia_quadrado = lambda x,media: (x - media)**2"
      ],
      "metadata": {
        "id": "FNCMSpSJ4aKj"
      },
      "execution_count": 40,
      "outputs": []
    },
    {
      "cell_type": "code",
      "source": [
        "def medidas_resumo(lista):\n",
        "\n",
        "  \"\"\"\n",
        "  Esta função calcula para uma lista de valores numéricos: quantidade de elementos, soma de todos os elementos, média entre os elementos, variância populacional entre os elementos.\n",
        "   :param lista: lista de valores numéricos\n",
        "   :return contagem: quantidade de elementos\n",
        "   :return total: soma de todos os elementos\n",
        "   :return media: média entre os elementos\n",
        "   :return varpop: variância populacional entre os elementos\n",
        "\n",
        "   >>> lista = [1,2,3,4,5]\n",
        "   >>> medidas_resumo(lista)\n",
        "   (6,21,3.5,1,707825)\n",
        "   \"\"\"\n",
        "\n",
        "  contagem = len(lista)\n",
        "  total = sum(lista)\n",
        "  media = total/contagem\n",
        "  diff_quadrado = [distancia_quadrado(x, media) for x in lista]\n",
        "  varp = sum(diff_quadrado)/contagem\n",
        "\n",
        "  return contagem, total, media, varp"
      ],
      "metadata": {
        "id": "ysuuQ-974sDb"
      },
      "execution_count": 54,
      "outputs": []
    },
    {
      "cell_type": "code",
      "source": [
        "contagem, total, média, varp = medidas_resumo(dados['salary_in_usd'])\n",
        "contagem, total, média, varp"
      ],
      "metadata": {
        "colab": {
          "base_uri": "https://localhost:8080/"
        },
        "id": "jsZ1mZLH6vsw",
        "outputId": "a5c56cba-0cbe-4376-dbe3-22f0bbca05a2"
      },
      "execution_count": 55,
      "outputs": [
        {
          "output_type": "execute_result",
          "data": {
            "text/plain": [
              "(16534, 2474921187, 149686.77797266238, 4692691352.57578)"
            ]
          },
          "metadata": {},
          "execution_count": 55
        }
      ]
    },
    {
      "cell_type": "code",
      "source": [
        "#identificando os grupos das variáveis qualitativas\n",
        "\n",
        "remotos = list(set(dados['remote']))\n",
        "remotos"
      ],
      "metadata": {
        "colab": {
          "base_uri": "https://localhost:8080/"
        },
        "id": "UkSvrEr09T03",
        "outputId": "95bf45d4-742f-4f2c-c719-b1f677b68954"
      },
      "execution_count": 56,
      "outputs": [
        {
          "output_type": "execute_result",
          "data": {
            "text/plain": [
              "['remoto', 'híbrido', 'presencial']"
            ]
          },
          "metadata": {},
          "execution_count": 56
        }
      ]
    },
    {
      "cell_type": "code",
      "source": [
        "def distinct_groups(lista):\n",
        "  return list(set(lista))"
      ],
      "metadata": {
        "id": "WMi7m4oQ9vvT"
      },
      "execution_count": 57,
      "outputs": []
    },
    {
      "cell_type": "code",
      "source": [
        "jobs = distinct_groups(dados['job_title'])\n",
        "jobs"
      ],
      "metadata": {
        "colab": {
          "base_uri": "https://localhost:8080/"
        },
        "id": "BosFrDXx-GkV",
        "outputId": "3bea1352-478b-4703-dff1-608977b6e735"
      },
      "execution_count": 58,
      "outputs": [
        {
          "output_type": "execute_result",
          "data": {
            "text/plain": [
              "['ETL Engineer',\n",
              " 'Analytics Engineering Manager',\n",
              " 'Data Management Specialist',\n",
              " 'Manager Data Management',\n",
              " 'Data Operations Associate',\n",
              " 'Data Manager',\n",
              " 'Applied Scientist',\n",
              " 'Lead Data Engineer',\n",
              " 'Big Data Engineer',\n",
              " 'Robotics Software Engineer',\n",
              " 'Marketing Data Analyst',\n",
              " 'AI Engineer',\n",
              " 'Data Analyst',\n",
              " 'Data Scientist',\n",
              " 'Data Strategy Manager',\n",
              " 'Robotics Engineer',\n",
              " 'Deep Learning Researcher',\n",
              " 'Machine Learning Research Engineer',\n",
              " 'Data Scientist Lead',\n",
              " 'Managing Director Data Science',\n",
              " 'Director of Data Science',\n",
              " 'Data Modeler',\n",
              " 'Business Intelligence Lead',\n",
              " 'Data Management Consultant',\n",
              " 'Data Operations Engineer',\n",
              " 'Staff Data Scientist',\n",
              " 'Principal Data Architect',\n",
              " 'Consultant Data Engineer',\n",
              " 'Big Data Developer',\n",
              " 'Quantitative Research Analyst',\n",
              " 'Admin & Data Analyst',\n",
              " 'Data Analytics Associate',\n",
              " 'BI Developer',\n",
              " 'Data Science Analyst',\n",
              " 'Head of Machine Learning',\n",
              " 'Deep Learning Engineer',\n",
              " 'Azure Data Engineer',\n",
              " 'MLOps Engineer',\n",
              " 'Lead Data Scientist',\n",
              " 'Staff Machine Learning Engineer',\n",
              " 'Bear Robotics',\n",
              " 'Data Analytics Consultant',\n",
              " 'ML Engineer',\n",
              " 'AI Research Engineer',\n",
              " 'Decision Scientist',\n",
              " 'Machine Learning Engineer',\n",
              " 'Business Data Analyst',\n",
              " 'Data Developer',\n",
              " 'Applied Machine Learning Engineer',\n",
              " 'Data Analyst Lead',\n",
              " 'Lead Machine Learning Engineer',\n",
              " 'Data Science Tech Lead',\n",
              " 'Data Architect',\n",
              " 'Data Science Manager',\n",
              " 'NLP Engineer',\n",
              " 'Data Science Lead',\n",
              " 'Machine Learning Infrastructure Engineer',\n",
              " 'AI Programmer',\n",
              " 'Director of Business Intelligence',\n",
              " 'Data Science Practitioner',\n",
              " 'Prompt Engineer',\n",
              " 'Data Operations Analyst',\n",
              " 'CRM Data Analyst',\n",
              " 'AI Architect',\n",
              " 'Data Quality Analyst',\n",
              " 'BI Data Engineer',\n",
              " 'ETL Developer',\n",
              " 'Data Science',\n",
              " 'Encounter Data Management Professional',\n",
              " 'Business Intelligence Analyst',\n",
              " 'Data Science Engineer',\n",
              " 'Computer Vision Engineer',\n",
              " 'Machine Learning Operations Engineer',\n",
              " 'Cloud Data Engineer',\n",
              " 'AI Software Engineer',\n",
              " 'Research Scientist',\n",
              " 'Cloud Database Engineer',\n",
              " 'Insight Analyst',\n",
              " 'Data Visualization Specialist',\n",
              " 'Machine Learning Researcher',\n",
              " 'Data Operations Specialist',\n",
              " 'Marketing Data Scientist',\n",
              " 'Applied Research Scientist',\n",
              " 'Financial Data Analyst',\n",
              " 'Data Visualization Analyst',\n",
              " 'Computational Biologist',\n",
              " 'Machine Learning Scientist',\n",
              " 'Data Science Director',\n",
              " 'Power BI Developer',\n",
              " 'Business Intelligence Engineer',\n",
              " 'Head of Data',\n",
              " 'Principal Machine Learning Engineer',\n",
              " 'Business Intelligence Data Analyst',\n",
              " 'Business Intelligence',\n",
              " 'Research Analyst',\n",
              " 'AI Research Scientist',\n",
              " 'Marketing Data Engineer',\n",
              " 'Business Intelligence Manager',\n",
              " 'Cloud Data Architect',\n",
              " 'Computer Vision Software Engineer',\n",
              " 'Machine Learning Manager',\n",
              " 'Data Operations Manager',\n",
              " 'Data Quality Manager',\n",
              " 'Big Data Architect',\n",
              " 'Business Intelligence Specialist',\n",
              " 'Data Reporting Analyst',\n",
              " 'Data Product Manager',\n",
              " 'Data Science Consultant',\n",
              " 'Business Intelligence Developer',\n",
              " 'Machine Learning Software Engineer',\n",
              " 'Machine Learning Specialist',\n",
              " 'Finance Data Analyst',\n",
              " 'Machine Learning Modeler',\n",
              " 'Software Data Engineer',\n",
              " 'Head of Data Science',\n",
              " 'AI Product Manager',\n",
              " 'Data Management Analyst',\n",
              " 'Applied Data Scientist',\n",
              " 'Research Engineer',\n",
              " 'Autonomous Vehicle Technician',\n",
              " 'Data Quality Engineer',\n",
              " 'BI Analyst',\n",
              " 'Product Data Analyst',\n",
              " 'Data DevOps Engineer',\n",
              " 'Principal Data Engineer',\n",
              " 'ML Ops Engineer',\n",
              " 'Data Analytics Manager',\n",
              " 'AI Developer',\n",
              " 'Analytics Engineer',\n",
              " 'Data Specialist',\n",
              " 'Data Integration Engineer',\n",
              " 'BI Data Analyst',\n",
              " 'AI Scientist',\n",
              " 'Machine Learning Developer',\n",
              " 'Applied Machine Learning Scientist',\n",
              " 'Data Pipeline Engineer',\n",
              " 'Data Lead',\n",
              " 'Compliance Data Analyst',\n",
              " 'Data Analytics Specialist',\n",
              " 'Data Analytics Lead',\n",
              " 'Data Strategist',\n",
              " 'Data Engineer',\n",
              " 'Principal Data Analyst',\n",
              " 'Principal Data Scientist',\n",
              " 'Sales Data Analyst',\n",
              " 'Data Integration Developer',\n",
              " 'AWS Data Architect',\n",
              " 'Data Infrastructure Engineer',\n",
              " 'Staff Data Analyst',\n",
              " 'Data Analytics Engineer',\n",
              " 'Data Integration Specialist',\n",
              " 'Data Visualization Engineer',\n",
              " 'Data Modeller',\n",
              " 'Lead Data Analyst',\n",
              " 'Data Product Owner']"
            ]
          },
          "metadata": {},
          "execution_count": 58
        }
      ]
    },
    {
      "cell_type": "code",
      "source": [
        "grupos = remotos.copy()\n",
        "\n",
        "salario_groups = {}\n",
        "\n",
        "for group in grupos:\n",
        "  salario_groups[group] = {'salaries':[]}\n",
        "\n",
        "for i in range(len(dados['remote'])):\n",
        "  salario_groups[dados['remote'][i]]['salaries'].append(dados['salary_in_usd'][i])"
      ],
      "metadata": {
        "id": "ppkMrUUs-62i"
      },
      "execution_count": 60,
      "outputs": []
    },
    {
      "cell_type": "code",
      "source": [
        "salario_groups.keys()"
      ],
      "metadata": {
        "colab": {
          "base_uri": "https://localhost:8080/"
        },
        "id": "vmudcYr8AH_9",
        "outputId": "a93adf02-8e0f-4e3e-c265-545584fa5ecd"
      },
      "execution_count": 62,
      "outputs": [
        {
          "output_type": "execute_result",
          "data": {
            "text/plain": [
              "dict_keys(['remoto', 'híbrido', 'presencial'])"
            ]
          },
          "metadata": {},
          "execution_count": 62
        }
      ]
    },
    {
      "cell_type": "code",
      "source": [
        "salario_groups['remoto']"
      ],
      "metadata": {
        "colab": {
          "base_uri": "https://localhost:8080/"
        },
        "id": "mTW-D36HAWtz",
        "outputId": "9d9abaa3-4a51-408f-e4ea-63f79990b9cb"
      },
      "execution_count": 63,
      "outputs": [
        {
          "output_type": "execute_result",
          "data": {
            "text/plain": [
              "{'salaries': [202730,\n",
              "  92118,\n",
              "  130500,\n",
              "  96000,\n",
              "  190000,\n",
              "  160000,\n",
              "  400000,\n",
              "  65000,\n",
              "  101520,\n",
              "  45864,\n",
              "  172469,\n",
              "  114945,\n",
              "  200000,\n",
              "  150000,\n",
              "  170000,\n",
              "  130000,\n",
              "  222200,\n",
              "  136000,\n",
              "  128000,\n",
              "  81500,\n",
              "  93838,\n",
              "  69535,\n",
              "  75000,\n",
              "  65000,\n",
              "  150000,\n",
              "  125000,\n",
              "  260570,\n",
              "  167030,\n",
              "  120000,\n",
              "  100000,\n",
              "  100000,\n",
              "  80000,\n",
              "  145000,\n",
              "  95000,\n",
              "  120000,\n",
              "  70000,\n",
              "  130000,\n",
              "  110000,\n",
              "  240000,\n",
              "  180000,\n",
              "  202800,\n",
              "  115000,\n",
              "  100000,\n",
              "  56250,\n",
              "  69230,\n",
              "  57692,\n",
              "  112300,\n",
              "  75100,\n",
              "  178200,\n",
              "  87000,\n",
              "  138000,\n",
              "  72000,\n",
              "  252000,\n",
              "  168000,\n",
              "  190000,\n",
              "  100000,\n",
              "  150650,\n",
              "  106700,\n",
              "  192300,\n",
              "  107900,\n",
              "  257600,\n",
              "  146000,\n",
              "  90000,\n",
              "  70000,\n",
              "  158200,\n",
              "  74100,\n",
              "  231400,\n",
              "  170955,\n",
              "  137000,\n",
              "  60300,\n",
              "  101098,\n",
              "  59469,\n",
              "  166363,\n",
              "  103977,\n",
              "  166000,\n",
              "  104000,\n",
              "  170400,\n",
              "  123800,\n",
              "  251250,\n",
              "  120750,\n",
              "  33333,\n",
              "  28666,\n",
              "  189615,\n",
              "  150385,\n",
              "  283800,\n",
              "  234700,\n",
              "  164000,\n",
              "  131000,\n",
              "  57008,\n",
              "  38651,\n",
              "  144300,\n",
              "  104800,\n",
              "  212750,\n",
              "  157250,\n",
              "  265000,\n",
              "  170000,\n",
              "  130000,\n",
              "  104000,\n",
              "  220000,\n",
              "  110000,\n",
              "  85000,\n",
              "  210850,\n",
              "  145400,\n",
              "  140000,\n",
              "  110000,\n",
              "  117647,\n",
              "  138000,\n",
              "  86000,\n",
              "  199700,\n",
              "  70800,\n",
              "  175000,\n",
              "  130000,\n",
              "  277000,\n",
              "  173000,\n",
              "  90000,\n",
              "  70000,\n",
              "  137000,\n",
              "  60400,\n",
              "  197689,\n",
              "  152311,\n",
              "  209500,\n",
              "  147500,\n",
              "  220600,\n",
              "  140100,\n",
              "  236872,\n",
              "  148045,\n",
              "  143896,\n",
              "  99208,\n",
              "  250000,\n",
              "  160000,\n",
              "  200000,\n",
              "  25000,\n",
              "  137500,\n",
              "  81500,\n",
              "  209700,\n",
              "  161300,\n",
              "  249000,\n",
              "  216000,\n",
              "  170040,\n",
              "  113360,\n",
              "  178250,\n",
              "  110500,\n",
              "  83300,\n",
              "  47500,\n",
              "  138000,\n",
              "  120000,\n",
              "  250000,\n",
              "  200000,\n",
              "  210554,\n",
              "  131596,\n",
              "  170000,\n",
              "  130000,\n",
              "  159550,\n",
              "  113000,\n",
              "  135000,\n",
              "  100000,\n",
              "  245400,\n",
              "  139000,\n",
              "  190000,\n",
              "  167000,\n",
              "  304000,\n",
              "  244000,\n",
              "  62500,\n",
              "  55000,\n",
              "  247600,\n",
              "  127300,\n",
              "  210000,\n",
              "  170000,\n",
              "  222200,\n",
              "  136000,\n",
              "  156000,\n",
              "  94000,\n",
              "  212800,\n",
              "  124100,\n",
              "  195000,\n",
              "  140000,\n",
              "  199068,\n",
              "  150000,\n",
              "  250900,\n",
              "  173100,\n",
              "  95000,\n",
              "  80000,\n",
              "  66666,\n",
              "  44444,\n",
              "  138000,\n",
              "  86000,\n",
              "  186754,\n",
              "  101000,\n",
              "  234000,\n",
              "  146000,\n",
              "  170000,\n",
              "  150000,\n",
              "  157500,\n",
              "  149900,\n",
              "  169000,\n",
              "  105000,\n",
              "  106336,\n",
              "  83150,\n",
              "  149925,\n",
              "  91260,\n",
              "  185000,\n",
              "  25000,\n",
              "  209700,\n",
              "  144600,\n",
              "  175000,\n",
              "  117000,\n",
              "  77280,\n",
              "  58000,\n",
              "  157144,\n",
              "  93101,\n",
              "  160769,\n",
              "  115384,\n",
              "  260000,\n",
              "  136000,\n",
              "  189000,\n",
              "  145400,\n",
              "  200070,\n",
              "  107730,\n",
              "  154000,\n",
              "  103000,\n",
              "  223000,\n",
              "  205000,\n",
              "  209000,\n",
              "  120000,\n",
              "  200000,\n",
              "  160000,\n",
              "  252000,\n",
              "  168000,\n",
              "  222200,\n",
              "  136000,\n",
              "  150000,\n",
              "  127500,\n",
              "  142136,\n",
              "  123596,\n",
              "  223500,\n",
              "  109100,\n",
              "  64500,\n",
              "  46500,\n",
              "  180500,\n",
              "  96200,\n",
              "  86940,\n",
              "  66000,\n",
              "  77280,\n",
              "  58000,\n",
              "  51772,\n",
              "  47778,\n",
              "  166000,\n",
              "  104000,\n",
              "  97000,\n",
              "  62000,\n",
              "  176000,\n",
              "  72700,\n",
              "  42457,\n",
              "  39245,\n",
              "  296400,\n",
              "  159600,\n",
              "  158200,\n",
              "  79000,\n",
              "  153000,\n",
              "  135000,\n",
              "  145000,\n",
              "  125000,\n",
              "  278000,\n",
              "  196000,\n",
              "  218000,\n",
              "  145000,\n",
              "  100000,\n",
              "  86220,\n",
              "  190000,\n",
              "  150000,\n",
              "  110000,\n",
              "  95000,\n",
              "  110000,\n",
              "  90000,\n",
              "  140000,\n",
              "  110000,\n",
              "  200000,\n",
              "  147000,\n",
              "  148000,\n",
              "  125000,\n",
              "  150000,\n",
              "  110000,\n",
              "  200000,\n",
              "  175000,\n",
              "  370000,\n",
              "  220000,\n",
              "  38888,\n",
              "  30000,\n",
              "  174000,\n",
              "  132000,\n",
              "  720000,\n",
              "  170000,\n",
              "  200000,\n",
              "  160000,\n",
              "  150000,\n",
              "  111000,\n",
              "  302900,\n",
              "  302900,\n",
              "  179500,\n",
              "  149500,\n",
              "  190000,\n",
              "  148000,\n",
              "  162225,\n",
              "  139050,\n",
              "  180000,\n",
              "  139000,\n",
              "  62500,\n",
              "  55000,\n",
              "  252000,\n",
              "  168000,\n",
              "  85000,\n",
              "  74880,\n",
              "  260000,\n",
              "  160000,\n",
              "  234000,\n",
              "  176000,\n",
              "  155000,\n",
              "  100000,\n",
              "  184000,\n",
              "  123000,\n",
              "  159550,\n",
              "  113000,\n",
              "  222300,\n",
              "  119700,\n",
              "  120000,\n",
              "  75000,\n",
              "  166000,\n",
              "  110781,\n",
              "  63162,\n",
              "  37154,\n",
              "  195800,\n",
              "  161900,\n",
              "  142166,\n",
              "  88854,\n",
              "  137000,\n",
              "  60400,\n",
              "  257500,\n",
              "  190000,\n",
              "  176000,\n",
              "  106500,\n",
              "  125500,\n",
              "  78000,\n",
              "  192500,\n",
              "  140000,\n",
              "  220000,\n",
              "  96600,\n",
              "  195500,\n",
              "  117300,\n",
              "  156000,\n",
              "  124000,\n",
              "  178090,\n",
              "  81978,\n",
              "  142500,\n",
              "  90000,\n",
              "  171210,\n",
              "  92190,\n",
              "  74276,\n",
              "  60437,\n",
              "  125000,\n",
              "  90000,\n",
              "  132600,\n",
              "  80845,\n",
              "  250000,\n",
              "  150000,\n",
              "  79000,\n",
              "  72000,\n",
              "  187415,\n",
              "  114080,\n",
              "  187415,\n",
              "  114080,\n",
              "  277000,\n",
              "  173000,\n",
              "  175000,\n",
              "  117000,\n",
              "  193000,\n",
              "  84600,\n",
              "  220000,\n",
              "  96600,\n",
              "  170000,\n",
              "  130000,\n",
              "  172000,\n",
              "  75600,\n",
              "  201000,\n",
              "  125500,\n",
              "  61700,\n",
              "  55000,\n",
              "  56250,\n",
              "  43750,\n",
              "  292300,\n",
              "  149700,\n",
              "  165600,\n",
              "  65800,\n",
              "  148000,\n",
              "  118000,\n",
              "  62500,\n",
              "  62500,\n",
              "  252000,\n",
              "  168000,\n",
              "  149076,\n",
              "  82365,\n",
              "  160000,\n",
              "  120000,\n",
              "  160000,\n",
              "  115000,\n",
              "  193000,\n",
              "  128000,\n",
              "  220000,\n",
              "  170000,\n",
              "  189000,\n",
              "  136000,\n",
              "  185000,\n",
              "  79600,\n",
              "  210000,\n",
              "  160000,\n",
              "  200000,\n",
              "  160000,\n",
              "  150000,\n",
              "  90000,\n",
              "  150000,\n",
              "  130000,\n",
              "  189000,\n",
              "  160000,\n",
              "  255475,\n",
              "  185800,\n",
              "  220000,\n",
              "  170000,\n",
              "  220000,\n",
              "  170000,\n",
              "  260000,\n",
              "  180000,\n",
              "  140000,\n",
              "  108500,\n",
              "  78800,\n",
              "  252000,\n",
              "  181000,\n",
              "  147500,\n",
              "  85000,\n",
              "  175000,\n",
              "  117000,\n",
              "  102927,\n",
              "  95010,\n",
              "  258750,\n",
              "  191250,\n",
              "  177100,\n",
              "  130900,\n",
              "  179000,\n",
              "  112000,\n",
              "  206000,\n",
              "  97335,\n",
              "  93750,\n",
              "  81250,\n",
              "  207300,\n",
              "  114700,\n",
              "  120000,\n",
              "  100000,\n",
              "  306000,\n",
              "  151600,\n",
              "  167500,\n",
              "  138500,\n",
              "  194000,\n",
              "  125500,\n",
              "  118750,\n",
              "  75000,\n",
              "  194500,\n",
              "  147368,\n",
              "  165000,\n",
              "  117000,\n",
              "  170000,\n",
              "  148000,\n",
              "  500000,\n",
              "  80000,\n",
              "  241000,\n",
              "  189000,\n",
              "  167500,\n",
              "  138500,\n",
              "  273000,\n",
              "  166500,\n",
              "  106260,\n",
              "  82000,\n",
              "  105000,\n",
              "  90000,\n",
              "  170000,\n",
              "  140000,\n",
              "  170000,\n",
              "  145000,\n",
              "  233000,\n",
              "  140000,\n",
              "  202800,\n",
              "  108200,\n",
              "  190000,\n",
              "  150000,\n",
              "  43750,\n",
              "  37500,\n",
              "  212800,\n",
              "  115100,\n",
              "  174000,\n",
              "  116000,\n",
              "  181700,\n",
              "  64300,\n",
              "  33500,\n",
              "  33500,\n",
              "  185000,\n",
              "  81000,\n",
              "  96200,\n",
              "  69800,\n",
              "  77280,\n",
              "  58000,\n",
              "  33500,\n",
              "  33500,\n",
              "  178200,\n",
              "  74800,\n",
              "  164500,\n",
              "  67200,\n",
              "  165000,\n",
              "  117000,\n",
              "  185000,\n",
              "  81000,\n",
              "  287800,\n",
              "  287800,\n",
              "  150000,\n",
              "  110000,\n",
              "  250000,\n",
              "  200000,\n",
              "  200000,\n",
              "  160000,\n",
              "  172000,\n",
              "  75600,\n",
              "  291340,\n",
              "  194240,\n",
              "  191070,\n",
              "  135900,\n",
              "  47500,\n",
              "  43750,\n",
              "  282000,\n",
              "  171000,\n",
              "  260000,\n",
              "  136000,\n",
              "  152800,\n",
              "  149282,\n",
              "  228000,\n",
              "  134000,\n",
              "  86666,\n",
              "  60000,\n",
              "  199500,\n",
              "  97400,\n",
              "  155000,\n",
              "  139500,\n",
              "  140000,\n",
              "  100000,\n",
              "  83300,\n",
              "  47500,\n",
              "  208500,\n",
              "  174000,\n",
              "  170000,\n",
              "  130000,\n",
              "  240000,\n",
              "  180000,\n",
              "  90000,\n",
              "  70000,\n",
              "  138000,\n",
              "  110400,\n",
              "  145000,\n",
              "  115000,\n",
              "  185000,\n",
              "  160000,\n",
              "  210000,\n",
              "  160000,\n",
              "  128750,\n",
              "  61875,\n",
              "  240000,\n",
              "  178000,\n",
              "  91200,\n",
              "  58200,\n",
              "  122000,\n",
              "  94500,\n",
              "  152300,\n",
              "  76200,\n",
              "  223000,\n",
              "  185000,\n",
              "  155000,\n",
              "  120000,\n",
              "  95000,\n",
              "  213000,\n",
              "  120700,\n",
              "  128000,\n",
              "  81500,\n",
              "  46000,\n",
              "  40000,\n",
              "  75000,\n",
              "  68750,\n",
              "  176627,\n",
              "  106029,\n",
              "  193000,\n",
              "  84600,\n",
              "  148017,\n",
              "  87069,\n",
              "  175000,\n",
              "  117000,\n",
              "  234000,\n",
              "  146000,\n",
              "  120000,\n",
              "  105000,\n",
              "  43500,\n",
              "  41000,\n",
              "  234000,\n",
              "  117000,\n",
              "  211888,\n",
              "  154100,\n",
              "  185100,\n",
              "  148500,\n",
              "  148500,\n",
              "  117000,\n",
              "  370000,\n",
              "  220000,\n",
              "  180000,\n",
              "  140000,\n",
              "  247300,\n",
              "  139800,\n",
              "  213000,\n",
              "  120700,\n",
              "  135000,\n",
              "  115000,\n",
              "  130000,\n",
              "  100000,\n",
              "  100000,\n",
              "  90000,\n",
              "  184000,\n",
              "  123000,\n",
              "  202500,\n",
              "  135000,\n",
              "  159550,\n",
              "  113000,\n",
              "  253900,\n",
              "  145100,\n",
              "  138000,\n",
              "  86000,\n",
              "  179000,\n",
              "  112000,\n",
              "  105000,\n",
              "  80800,\n",
              "  64500,\n",
              "  46500,\n",
              "  120750,\n",
              "  85000,\n",
              "  144606,\n",
              "  128539,\n",
              "  79400,\n",
              "  55600,\n",
              "  131700,\n",
              "  84000,\n",
              "  206000,\n",
              "  106605,\n",
              "  179000,\n",
              "  112000,\n",
              "  120750,\n",
              "  85000,\n",
              "  175000,\n",
              "  118000,\n",
              "  194000,\n",
              "  122000,\n",
              "  142250,\n",
              "  100000,\n",
              "  99000,\n",
              "  87000,\n",
              "  118400,\n",
              "  64000,\n",
              "  176000,\n",
              "  72700,\n",
              "  145000,\n",
              "  120000,\n",
              "  126225,\n",
              "  61846,\n",
              "  114200,\n",
              "  92900,\n",
              "  219700,\n",
              "  137300,\n",
              "  108500,\n",
              "  78800,\n",
              "  55328,\n",
              "  42457,\n",
              "  95000,\n",
              "  85000,\n",
              "  55555,\n",
              "  44444,\n",
              "  128000,\n",
              "  81500,\n",
              "  194500,\n",
              "  125500,\n",
              "  187000,\n",
              "  153000,\n",
              "  146000,\n",
              "  128000,\n",
              "  130500,\n",
              "  96000,\n",
              "  108100,\n",
              "  60800,\n",
              "  208000,\n",
              "  175000,\n",
              "  485000,\n",
              "  280000,\n",
              "  240000,\n",
              "  160000,\n",
              "  239000,\n",
              "  177000,\n",
              "  177300,\n",
              "  136300,\n",
              "  243000,\n",
              "  163000,\n",
              "  250000,\n",
              "  190000,\n",
              "  162000,\n",
              "  128000,\n",
              "  140000,\n",
              "  107000,\n",
              "  155700,\n",
              "  75500,\n",
              "  234000,\n",
              "  146000,\n",
              "  172000,\n",
              "  75600,\n",
              "  204000,\n",
              "  105800,\n",
              "  246000,\n",
              "  132600,\n",
              "  190000,\n",
              "  152000,\n",
              "  84105,\n",
              "  76095,\n",
              "  203900,\n",
              "  116600,\n",
              "  50666,\n",
              "  29333,\n",
              "  77777,\n",
              "  44444,\n",
              "  142200,\n",
              "  116200,\n",
              "  175000,\n",
              "  100000,\n",
              "  80000,\n",
              "  52500,\n",
              "  213000,\n",
              "  120700,\n",
              "  169200,\n",
              "  130100,\n",
              "  227000,\n",
              "  122200,\n",
              "  179000,\n",
              "  140000,\n",
              "  247600,\n",
              "  127300,\n",
              "  120529,\n",
              "  96428,\n",
              "  168000,\n",
              "  90900,\n",
              "  209000,\n",
              "  171000,\n",
              "  200000,\n",
              "  175000,\n",
              "  243000,\n",
              "  192000,\n",
              "  170000,\n",
              "  25000,\n",
              "  314100,\n",
              "  169700,\n",
              "  160000,\n",
              "  128000,\n",
              "  178500,\n",
              "  156312,\n",
              "  300000,\n",
              "  130000,\n",
              "  200000,\n",
              "  180000,\n",
              "  200000,\n",
              "  160000,\n",
              "  355000,\n",
              "  213500,\n",
              "  185000,\n",
              "  102600,\n",
              "  62500,\n",
              "  110000,\n",
              "  90000,\n",
              "  212800,\n",
              "  115100,\n",
              "  202800,\n",
              "  104300,\n",
              "  225000,\n",
              "  150000,\n",
              "  129000,\n",
              "  86000,\n",
              "  172000,\n",
              "  75600,\n",
              "  265400,\n",
              "  127400,\n",
              "  363000,\n",
              "  139800,\n",
              "  175100,\n",
              "  82915,\n",
              "  192300,\n",
              "  120200,\n",
              "  155000,\n",
              "  135000,\n",
              "  150200,\n",
              "  100100,\n",
              "  220000,\n",
              "  137500,\n",
              "  100000,\n",
              "  90000,\n",
              "  165000,\n",
              "  110000,\n",
              "  101081,\n",
              "  78108,\n",
              "  285500,\n",
              "  142500,\n",
              "  324000,\n",
              "  159000,\n",
              "  150000,\n",
              "  130000,\n",
              "  277000,\n",
              "  173000,\n",
              "  137000,\n",
              "  60300,\n",
              "  159120,\n",
              "  92240,\n",
              "  225000,\n",
              "  200000,\n",
              "  180500,\n",
              "  96200,\n",
              "  245400,\n",
              "  139000,\n",
              "  176500,\n",
              "  116600,\n",
              "  208500,\n",
              "  100100,\n",
              "  50000,\n",
              "  31250,\n",
              "  222200,\n",
              "  136000,\n",
              "  153018,\n",
              "  135000,\n",
              "  303050,\n",
              "  202350,\n",
              "  230300,\n",
              "  114700,\n",
              "  190000,\n",
              "  160000,\n",
              "  245400,\n",
              "  139000,\n",
              "  108334,\n",
              "  59923,\n",
              "  249000,\n",
              "  216000,\n",
              "  340000,\n",
              "  256000,\n",
              "  223600,\n",
              "  115000,\n",
              "  250800,\n",
              "  167200,\n",
              "  128000,\n",
              "  92000,\n",
              "  189600,\n",
              "  101100,\n",
              "  270400,\n",
              "  145600,\n",
              "  137000,\n",
              "  60400,\n",
              "  158100,\n",
              "  138500,\n",
              "  188500,\n",
              "  165100,\n",
              "  250000,\n",
              "  180000,\n",
              "  160000,\n",
              "  130000,\n",
              "  242100,\n",
              "  116200,\n",
              "  126000,\n",
              "  78000,\n",
              "  185000,\n",
              "  160000,\n",
              "  172000,\n",
              "  101000,\n",
              "  130000,\n",
              "  120000,\n",
              "  138000,\n",
              "  92000,\n",
              "  145000,\n",
              "  95000,\n",
              "  175000,\n",
              "  115200,\n",
              "  270000,\n",
              "  185000,\n",
              "  267900,\n",
              "  234700,\n",
              "  100000,\n",
              "  75000,\n",
              "  260000,\n",
              "  136000,\n",
              "  175000,\n",
              "  117000,\n",
              "  143537,\n",
              "  112241,\n",
              "  170000,\n",
              "  140000,\n",
              "  205000,\n",
              "  178000,\n",
              "  297000,\n",
              "  168300,\n",
              "  110000,\n",
              "  92000,\n",
              "  151260,\n",
              "  30000,\n",
              "  237500,\n",
              "  157500,\n",
              "  200000,\n",
              "  172750,\n",
              "  65000,\n",
              "  56250,\n",
              "  122000,\n",
              "  94000,\n",
              "  240000,\n",
              "  133000,\n",
              "  175762,\n",
              "  97254,\n",
              "  250000,\n",
              "  141500,\n",
              "  140000,\n",
              "  65000,\n",
              "  82402,\n",
              "  48508,\n",
              "  130500,\n",
              "  96000,\n",
              "  150000,\n",
              "  130000,\n",
              "  66666,\n",
              "  42222,\n",
              "  245400,\n",
              "  139000,\n",
              "  200000,\n",
              "  140000,\n",
              "  223100,\n",
              "  126400,\n",
              "  90000,\n",
              "  75000,\n",
              "  180000,\n",
              "  162000,\n",
              "  309400,\n",
              "  159100,\n",
              "  175762,\n",
              "  97254,\n",
              "  75000,\n",
              "  50000,\n",
              "  145000,\n",
              "  115000,\n",
              "  222200,\n",
              "  136000,\n",
              "  245400,\n",
              "  139000,\n",
              "  205500,\n",
              "  132500,\n",
              "  144538,\n",
              "  96358,\n",
              "  306000,\n",
              "  180000,\n",
              "  222200,\n",
              "  136000,\n",
              "  37500,\n",
              "  33750,\n",
              "  130000,\n",
              "  100000,\n",
              "  77280,\n",
              "  58000,\n",
              "  264846,\n",
              "  143060,\n",
              "  75000,\n",
              "  65000,\n",
              "  172000,\n",
              "  75600,\n",
              "  158100,\n",
              "  138500,\n",
              "  283800,\n",
              "  234700,\n",
              "  198000,\n",
              "  144000,\n",
              "  220000,\n",
              "  96600,\n",
              "  83300,\n",
              "  47500,\n",
              "  118000,\n",
              "  100000,\n",
              "  220000,\n",
              "  96600,\n",
              "  132500,\n",
              "  88000,\n",
              "  93100,\n",
              "  60000,\n",
              "  135000,\n",
              "  100000,\n",
              "  215000,\n",
              "  120000,\n",
              "  62222,\n",
              "  ...]}"
            ]
          },
          "metadata": {},
          "execution_count": 63
        }
      ]
    },
    {
      "cell_type": "code",
      "source": [
        "var_ponderada = 0\n",
        "for group in grupos:\n",
        "  contagem_group, total_group, media_group, varp_group = medidas_resumo(salario_groups[group]['salaries'])\n",
        "  var_ponderada = var_ponderada + contagem_group * varp_group\n",
        "\n",
        "var_ponderada = var_ponderada/contagem\n"
      ],
      "metadata": {
        "id": "FefZS2XSAq6q"
      },
      "execution_count": 64,
      "outputs": []
    },
    {
      "cell_type": "code",
      "source": [
        "var_ponderada/varp #Este é o r quadrado"
      ],
      "metadata": {
        "colab": {
          "base_uri": "https://localhost:8080/"
        },
        "id": "WUJfWgKnBnYs",
        "outputId": "9061078d-4802-4043-db96-c2620fd731ba"
      },
      "execution_count": 66,
      "outputs": [
        {
          "output_type": "execute_result",
          "data": {
            "text/plain": [
              "0.9828453389525196"
            ]
          },
          "metadata": {},
          "execution_count": 66
        }
      ]
    }
  ]
}