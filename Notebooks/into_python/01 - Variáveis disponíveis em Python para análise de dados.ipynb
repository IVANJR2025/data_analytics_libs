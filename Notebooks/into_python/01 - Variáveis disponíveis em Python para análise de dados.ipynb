{
 "cells": [
  {
   "cell_type": "markdown",
   "id": "54f08169",
   "metadata": {},
   "source": [
    "# Variáveis disponíveis em Python para análise de dados\n",
    "***\n",
    "Python é uma linguagem de programação dinamicamente tipada, o que significa que o tipo de dados é inferido a partir do valor atribuído a ele. Existem vários tipos de dados em Python, cada um com suas próprias características e métodos.\n",
    "\n",
    "<input type=\"checkbox\" checked disabled> Números inteiros (int): variáveis que armazenam números inteiros, por exemplo: 1, 2, 3, -4, -10.\n",
    "\n",
    "<input type=\"checkbox\" checked disabled> Números de ponto flutuante (float): variáveis que armazenam números com casas decimais, por exemplo: 1.2, 3.1415, -0.5.\n",
    "\n",
    "<input type=\"checkbox\" checked disabled> Strings (str): variáveis que armazenam texto, por exemplo: \"Olá mundo\", \"Python é incrível\", \"123\".\n",
    "\n",
    "<input type=\"checkbox\" checked disabled> Listas (list): variáveis que armazenam uma sequência ordenada de valores, podendo ser de diferentes tipos, por exemplo: [1, \"Python\", 3.14, True].\n",
    "\n",
    "<input type=\"checkbox\" checked disabled> Tuplas (tuple): semelhantes às listas, mas não permitem alteração dos valores, ou seja, são imutáveis, por exemplo: (1, \"Python\", 3.14, True).\n",
    "\n",
    "<input type=\"checkbox\" checked disabled> Conjuntos (set): variáveis que armazenam uma coleção de valores únicos, por exemplo: {1, 2, 3}, {\"Python\", \"R\", \"Java\"}.\n",
    "<input type=\"checkbox\" checked disabled> \n",
    "<input type=\"checkbox\" checked disabled> Dicionários (dict): variáveis que armazenam uma coleção de pares chave-valor, por exemplo: {\"nome\": \"Maria\", \"idade\": 30, \"cidade\": \"São Paulo\"}."
   ]
  },
  {
   "cell_type": "markdown",
   "id": "f456d4c4",
   "metadata": {},
   "source": [
    "##### String (str)\n",
    "\n",
    "O tipo de dados de string é uma sequência de caracteres que representa um texto. Ela é uma das principais estruturas de dados da linguagem, sendo amplamente utilizada em diversos contextos, como manipulação de arquivos, comunicação com banco de dados e processamento de texto.\n",
    "\n",
    "Para criar uma string em Python, basta envolver o texto entre aspas simples ou duplas. Por exemplo:"
   ]
  },
  {
   "cell_type": "code",
   "execution_count": 3,
   "id": "424926c3",
   "metadata": {},
   "outputs": [
    {
     "name": "stdout",
     "output_type": "stream",
     "text": [
      "Isso é uma string\n"
     ]
    }
   ],
   "source": [
    "texto = 'Isso é uma string'\n",
    "print(texto)"
   ]
  },
  {
   "cell_type": "markdown",
   "id": "c9799a23",
   "metadata": {},
   "source": [
    "Além disso, é possível usar aspas triplas para criar strings com múltiplas linhas. Por exemplo:"
   ]
  },
  {
   "cell_type": "code",
   "execution_count": 4,
   "id": "28749e38",
   "metadata": {},
   "outputs": [
    {
     "name": "stdout",
     "output_type": "stream",
     "text": [
      "Isso é uma string\n",
      "com múltiplas linhas\n",
      "em Python\n"
     ]
    }
   ],
   "source": [
    "texto_multilinha = '''Isso é uma string\n",
    "com múltiplas linhas\n",
    "em Python'''\n",
    "\n",
    "print(texto_multilinha)"
   ]
  },
  {
   "cell_type": "code",
   "execution_count": 5,
   "id": "1774ecb4",
   "metadata": {},
   "outputs": [
    {
     "name": "stdout",
     "output_type": "stream",
     "text": [
      "\n",
      "select *\n",
      "from tabela;\n",
      "\n"
     ]
    }
   ],
   "source": [
    "query = '''\n",
    "select *\n",
    "from tabela;\n",
    "'''\n",
    "print(query)"
   ]
  },
  {
   "cell_type": "markdown",
   "id": "f9943e75",
   "metadata": {},
   "source": [
    "As strings em Python são imutáveis, o que significa que não é possível alterar um caractere específico de uma string. No entanto, é possível criar uma nova string a partir de uma existente, utilizando métodos de manipulação de strings, como o replace() e o split()."
   ]
  },
  {
   "cell_type": "markdown",
   "id": "d42504ab",
   "metadata": {},
   "source": [
    "##### Inteiro (int)\n",
    "O tipo de dados inteiro (int) representa números inteiros positivos ou negativos. Inteiros podem ser criados simplesmente digitando um número inteiro diretamente no código Python ou podem ser o resultado de operações matemáticas."
   ]
  },
  {
   "cell_type": "code",
   "execution_count": 6,
   "id": "66c6914d",
   "metadata": {},
   "outputs": [
    {
     "name": "stdout",
     "output_type": "stream",
     "text": [
      "15\n"
     ]
    }
   ],
   "source": [
    "a = 10\n",
    "b = 5\n",
    "\n",
    "#soma\n",
    "c = a + b\n",
    "print(c)"
   ]
  },
  {
   "cell_type": "markdown",
   "id": "8d7188e8",
   "metadata": {},
   "source": [
    "##### Operações"
   ]
  },
  {
   "cell_type": "code",
   "execution_count": 7,
   "id": "d7e8ea95",
   "metadata": {},
   "outputs": [
    {
     "name": "stdout",
     "output_type": "stream",
     "text": [
      "\n",
      "RESULTADO DAS OPERAÇÕES:\n",
      "               SOMA:15\n",
      "               MULTIPLICAÇÃO: 50\n",
      "               DIVISÃO: 2.0\n",
      "               MÓDULO: 0\n",
      "\n"
     ]
    }
   ],
   "source": [
    "c = a + b\n",
    "d = a * b\n",
    "e = a / b\n",
    "f = a % b\n",
    "\n",
    "print(f'''\n",
    "RESULTADO DAS OPERAÇÕES:\n",
    "               SOMA:{c}\n",
    "               MULTIPLICAÇÃO: {d}\n",
    "               DIVISÃO: {e}\n",
    "               MÓDULO: {f}\n",
    "''')"
   ]
  },
  {
   "cell_type": "markdown",
   "id": "1fa0b832",
   "metadata": {},
   "source": [
    "##### Ponto Flutuante ou Decimal (float)\n",
    "O tipo de dados float representa números com casas decimais. Assim como os inteiros, os floats podem ser criados diretamente no código ou como resultado de operações matemáticas."
   ]
  },
  {
   "cell_type": "code",
   "execution_count": 8,
   "id": "05596cef",
   "metadata": {},
   "outputs": [
    {
     "name": "stdout",
     "output_type": "stream",
     "text": [
      "3.8\n"
     ]
    }
   ],
   "source": [
    "a = 2.5\n",
    "b = 1.3\n",
    "c = a + b\n",
    "\n",
    "print(c) "
   ]
  },
  {
   "cell_type": "markdown",
   "id": "6dcc6cf2",
   "metadata": {},
   "source": [
    "##### Boolean (bool)\n",
    "O tipo de dados boolean é utilizado para representar valores lógicos verdadeiro (True) ou falso (False). Booleans são frequentemente utilizados em estruturas de controle, como if e while."
   ]
  },
  {
   "cell_type": "code",
   "execution_count": 44,
   "id": "8a7d4876",
   "metadata": {},
   "outputs": [
    {
     "name": "stdout",
     "output_type": "stream",
     "text": [
      "True\n"
     ]
    }
   ],
   "source": [
    "a = True\n",
    "b = False\n",
    "c = a or b\n",
    "print(c) "
   ]
  },
  {
   "cell_type": "markdown",
   "id": "2d53db6b",
   "metadata": {},
   "source": [
    "##### Lista (list)\n",
    "O tipo de dados lista é utilizado para representar uma sequência **mutável** de valores. Uma lista é criada colocando valores separados por vírgulas entre colchetes. Os valores podem ser de qualquer tipo.\n"
   ]
  },
  {
   "cell_type": "code",
   "execution_count": 10,
   "id": "929d0f41",
   "metadata": {},
   "outputs": [
    {
     "name": "stdout",
     "output_type": "stream",
     "text": [
      "Valores contidos na lista A: [1, 2, 3, 'quatro', 5.6, 'sete']\n",
      "Valores contidos na lista B: 3\n",
      "Valores contidos na lista A após remoção do valor 1: [2, 3, 'quatro', 5.6, 'sete']\n"
     ]
    }
   ],
   "source": [
    "a = [1, 2, 3, \"quatro\", 5.6]\n",
    "b = a[2]\n",
    "\n",
    "a.append(\"sete\")\n",
    "\n",
    "print(f'Valores contidos na lista A: {a}') \n",
    "print(f'Valores contidos na lista B: {b}') \n",
    "\n",
    "a.remove(1)\n",
    "print(f'Valores contidos na lista A após remoção do valor 1: {a}')\n"
   ]
  },
  {
   "cell_type": "code",
   "execution_count": 11,
   "id": "3f69d1d3",
   "metadata": {},
   "outputs": [
    {
     "name": "stdout",
     "output_type": "stream",
     "text": [
      "2\n",
      "3\n",
      "quatro\n",
      "5.6\n",
      "sete\n"
     ]
    }
   ],
   "source": [
    "# Imprimindo elementos em uma lista \n",
    "for elem in a:\n",
    "    print(elem)"
   ]
  },
  {
   "cell_type": "markdown",
   "id": "03c3b87b",
   "metadata": {},
   "source": [
    "##### Dicionário (dict)\n",
    "O tipo de dado dicionário (dict) em Python é uma estrutura de dados que armazena valores em pares de chave-valor.\n",
    "\n",
    "A chave é uma string ou um número e o valor pode ser qualquer tipo de dado. Essa estrutura é extremamente útil quando se precisa acessar os valores através de uma chave, o que pode ser feito de maneira muito rápida e eficiente."
   ]
  },
  {
   "cell_type": "markdown",
   "id": "03e46f85",
   "metadata": {},
   "source": [
    "###### Dicionário simples com acesso a valores"
   ]
  },
  {
   "cell_type": "code",
   "execution_count": 24,
   "id": "56c49864",
   "metadata": {},
   "outputs": [
    {
     "name": "stdout",
     "output_type": "stream",
     "text": [
      "Nome:  Maria\n",
      "Idade:  28\n",
      "Cidade:  São Paulo\n"
     ]
    }
   ],
   "source": [
    "# Criando um dicionário simples\n",
    "dicionario = {\"nome\": \"Maria\", \n",
    "              \"idade\": 28, \n",
    "              \"cidade\": \"São Paulo\"}\n",
    "\n",
    "# Acessando valores do dicionário\n",
    "print(\"Nome: \", dicionario[\"nome\"])\n",
    "print(\"Idade: \", dicionario[\"idade\"])\n",
    "print(\"Cidade: \", dicionario[\"cidade\"])"
   ]
  },
  {
   "cell_type": "markdown",
   "id": "7fdf73c2",
   "metadata": {},
   "source": [
    "###### Criando uma lista de dicionários"
   ]
  },
  {
   "cell_type": "code",
   "execution_count": 39,
   "id": "f5462e42",
   "metadata": {},
   "outputs": [],
   "source": [
    "lista_dicionario = []\n",
    "\n",
    "registro_1 = {\"nome\": \"Pedro\", \n",
    "           \"idade\": 26, \n",
    "           \"cidade\": \"Belo Horizonte\"}\n",
    "lista_dicionario.append(registro_1)"
   ]
  },
  {
   "cell_type": "code",
   "execution_count": 40,
   "id": "12276ae6",
   "metadata": {},
   "outputs": [
    {
     "data": {
      "text/plain": [
       "[{'nome': 'Pedro', 'idade': 26, 'cidade': 'Belo Horizonte'}]"
      ]
     },
     "execution_count": 40,
     "metadata": {},
     "output_type": "execute_result"
    }
   ],
   "source": [
    "lista_dicionario"
   ]
  },
  {
   "cell_type": "code",
   "execution_count": 41,
   "id": "9cbda412",
   "metadata": {},
   "outputs": [],
   "source": [
    "registro_2 = {\"nome\": \"Leandro\", \n",
    "           \"idade\": 30, \n",
    "           \"cidade\": \"Belo Horizonte\"}\n",
    "\n",
    "registro_3 = {\"nome\": \"Daniele\", \n",
    "           \"idade\": 26, \n",
    "           \"cidade\": \"Porto Alegre\"}\n",
    "\n",
    "\n",
    "lista_dicionario.append(registro_2)\n",
    "lista_dicionario.append(registro_3)"
   ]
  },
  {
   "cell_type": "code",
   "execution_count": 42,
   "id": "cd62fe61",
   "metadata": {},
   "outputs": [
    {
     "data": {
      "text/plain": [
       "[{'nome': 'Pedro', 'idade': 26, 'cidade': 'Belo Horizonte'},\n",
       " {'nome': 'Leandro', 'idade': 30, 'cidade': 'Belo Horizonte'},\n",
       " {'nome': 'Daniele', 'idade': 26, 'cidade': 'Porto Alegre'}]"
      ]
     },
     "execution_count": 42,
     "metadata": {},
     "output_type": "execute_result"
    }
   ],
   "source": [
    "lista_dicionario"
   ]
  }
 ],
 "metadata": {
  "kernelspec": {
   "display_name": "avaliacao",
   "language": "python",
   "name": "avaliacao"
  },
  "language_info": {
   "codemirror_mode": {
    "name": "ipython",
    "version": 3
   },
   "file_extension": ".py",
   "mimetype": "text/x-python",
   "name": "python",
   "nbconvert_exporter": "python",
   "pygments_lexer": "ipython3",
   "version": "3.11.0"
  }
 },
 "nbformat": 4,
 "nbformat_minor": 5
}
