{
  "nbformat": 4,
  "nbformat_minor": 0,
  "metadata": {
    "colab": {
      "provenance": [],
      "authorship_tag": "ABX9TyOoEWi+m0CqUVOgay6t0Mbq",
      "include_colab_link": true
    },
    "kernelspec": {
      "name": "python3",
      "display_name": "Python 3"
    },
    "language_info": {
      "name": "python"
    }
  },
  "cells": [
    {
      "cell_type": "markdown",
      "metadata": {
        "id": "view-in-github",
        "colab_type": "text"
      },
      "source": [
        "<a href=\"https://colab.research.google.com/github/IVANJR2025/data_analytics_libs/blob/main/Exerc%C3%ADcios_juros.ipynb\" target=\"_parent\"><img src=\"https://colab.research.google.com/assets/colab-badge.svg\" alt=\"Open In Colab\"/></a>"
      ]
    },
    {
      "cell_type": "markdown",
      "source": [
        "EXERCÍCIO 1\n",
        "PROBLEMA: Suponha que você receba o nome de uma cidade no formato \"cidade-UF\", crie uma função para retornar o nome da cidade em um tuple com primeiro elemento sendo o estado e o segundo elemento sendo a cidade"
      ],
      "metadata": {
        "id": "U5p8Ib_0-AY2"
      }
    },
    {
      "cell_type": "code",
      "execution_count": 1,
      "metadata": {
        "id": "thgMQ4eb9-BJ"
      },
      "outputs": [],
      "source": [
        "cidade = 'Uberaba-MG'"
      ]
    },
    {
      "cell_type": "code",
      "source": [
        "uf = cidade[-2:]\n",
        "uf"
      ],
      "metadata": {
        "colab": {
          "base_uri": "https://localhost:8080/",
          "height": 35
        },
        "id": "quvsO1MKACj8",
        "outputId": "2111e63b-70cc-4828-d0ce-f4c58e1657cf"
      },
      "execution_count": 2,
      "outputs": [
        {
          "output_type": "execute_result",
          "data": {
            "text/plain": [
              "'MG'"
            ],
            "application/vnd.google.colaboratory.intrinsic+json": {
              "type": "string"
            }
          },
          "metadata": {},
          "execution_count": 2
        }
      ]
    },
    {
      "cell_type": "code",
      "source": [
        "município = cidade[:-3]\n",
        "município"
      ],
      "metadata": {
        "colab": {
          "base_uri": "https://localhost:8080/",
          "height": 35
        },
        "id": "QySTEggKASjN",
        "outputId": "5e6169d2-f92e-41c8-9096-4422167b18b9"
      },
      "execution_count": 3,
      "outputs": [
        {
          "output_type": "execute_result",
          "data": {
            "text/plain": [
              "'Uberaba'"
            ],
            "application/vnd.google.colaboratory.intrinsic+json": {
              "type": "string"
            }
          },
          "metadata": {},
          "execution_count": 3
        }
      ]
    },
    {
      "cell_type": "code",
      "source": [
        "def municipio(cidade):\n",
        "  \"\"\"\n",
        "  Nesta função nós recebemos o nome de uma cidade no formato \"cidade-UF\" e retornamos o nome da cidade em um tuple com primeiro elemento sendo o estado e o segundo elemento sendo a cidade\n",
        "  :param cidade: ciadade no formato \"cidade-UF\"\n",
        "  :return: tuple com primeiro elemento sendo o estado e o segundo elemento sendo a cidade (uf, cidade)\n",
        "\n",
        "  >>>cidade = 'Uberaba-MG'\n",
        "  >>>municipio(cidade)\n",
        "  \"\"\"\n",
        "  uf = cidade[-2:]\n",
        "  município = cidade[:-3]\n",
        "  res = (uf, município)\n",
        "  return res"
      ],
      "metadata": {
        "id": "INK8oNQeAjyb"
      },
      "execution_count": 6,
      "outputs": []
    },
    {
      "cell_type": "code",
      "source": [
        "cidade = 'Uberaba-MG'\n",
        "municipio(cidade)"
      ],
      "metadata": {
        "colab": {
          "base_uri": "https://localhost:8080/"
        },
        "id": "zT7okeAdBb7G",
        "outputId": "26a050dc-a912-4878-889f-57b77bfd1bd4"
      },
      "execution_count": 5,
      "outputs": [
        {
          "output_type": "execute_result",
          "data": {
            "text/plain": [
              "('MG', 'Uberaba')"
            ]
          },
          "metadata": {},
          "execution_count": 5
        }
      ]
    },
    {
      "cell_type": "code",
      "source": [
        "cidade = \"Maricá-RJ\"\n",
        "municipio(cidade)"
      ],
      "metadata": {
        "colab": {
          "base_uri": "https://localhost:8080/"
        },
        "id": "3WxrKgX6CBE8",
        "outputId": "f6216f03-db3b-47c0-f0f5-f5c2b49c6a30"
      },
      "execution_count": 7,
      "outputs": [
        {
          "output_type": "execute_result",
          "data": {
            "text/plain": [
              "('RJ', 'Maricá')"
            ]
          },
          "metadata": {},
          "execution_count": 7
        }
      ]
    },
    {
      "cell_type": "markdown",
      "source": [
        "EXERCÍCIO 2\n",
        "PROBLEMA: Crie uma função para calcular o rendimento de um investimento a juros compostos após um determinado período de meses\n",
        "\n",
        "Fórmula: $ retorno = investimento inicial * (1 + Taxa de juros)^{meses_aplicacao}$"
      ],
      "metadata": {
        "id": "gI4_gwFNCfFJ"
      }
    },
    {
      "cell_type": "code",
      "source": [
        "investimento_inicial = 10000\n",
        "taxa_juros = 0.01\n",
        "meses_aplicacao = 12\n",
        "\n",
        "retorno = investimento_inicial * (1 + taxa_juros)** meses_aplicacao\n",
        "retorno"
      ],
      "metadata": {
        "colab": {
          "base_uri": "https://localhost:8080/"
        },
        "id": "Eh-GYulhDxSG",
        "outputId": "0c163b58-5d60-4c59-b0e7-f2fd8ac3c81b"
      },
      "execution_count": 8,
      "outputs": [
        {
          "output_type": "execute_result",
          "data": {
            "text/plain": [
              "11268.250301319698"
            ]
          },
          "metadata": {},
          "execution_count": 8
        }
      ]
    },
    {
      "cell_type": "code",
      "source": [
        "def retorno_inves(investimento_inicial, taxa_juros, meses_aplicacao):\n",
        "  \"\"\"\n",
        "  Esta função calcula o rendimento de um investimento a juros compostos após um determinado período de meses\n",
        "  :param investimento_inicial: investimennto inicial\n",
        "  :param taxa_juros: taxa de juros\n",
        "  :param meses_aplicados: meses aplicados\n",
        "  :return: rendimento\n",
        "\n",
        "  >>>investimento_inicial = 10000\n",
        "  >>>taxa_juros = 0.01\n",
        "  >>>meses_aplicados = 12\n",
        "  >>>retorno_inves(investimento_inicial, taxa_juros, meses_aplicados)\n",
        "  11268.250301319698\n",
        "  \"\"\"\n",
        "  retorno = investimento_inicial * (1 + taxa_juros)** meses_aplicacao\n",
        "  return retorno"
      ],
      "metadata": {
        "id": "hOsZhv_RHa19"
      },
      "execution_count": 9,
      "outputs": []
    },
    {
      "cell_type": "code",
      "source": [
        "retorno_inves(investimento_inicial, taxa_juros, meses_aplicacao)"
      ],
      "metadata": {
        "colab": {
          "base_uri": "https://localhost:8080/"
        },
        "id": "A3xMNL60I-WM",
        "outputId": "a9a75f14-fe08-4c23-8f25-77f0971362d7"
      },
      "execution_count": 10,
      "outputs": [
        {
          "output_type": "execute_result",
          "data": {
            "text/plain": [
              "11268.250301319698"
            ]
          },
          "metadata": {},
          "execution_count": 10
        }
      ]
    },
    {
      "cell_type": "code",
      "source": [
        "retorno_inves(2000, 0.01, 120)"
      ],
      "metadata": {
        "colab": {
          "base_uri": "https://localhost:8080/"
        },
        "id": "23ZKR1WDJK-T",
        "outputId": "e2f0bf02-5b9e-4b59-e1ee-4ee91bc6bde8"
      },
      "execution_count": 12,
      "outputs": [
        {
          "output_type": "execute_result",
          "data": {
            "text/plain": [
              "6600.773789147337"
            ]
          },
          "metadata": {},
          "execution_count": 12
        }
      ]
    },
    {
      "cell_type": "code",
      "source": [
        "def juros_compostos(aporte_mensal, taxa_juros, meses, valor_inicial=0):\n",
        "    \"\"\"\n",
        "    Calcula o valor final de um investimento com juros compostos e aportes mensais fixos.\n",
        "\n",
        "    Parâmetros:\n",
        "    - aporte_mensal (float): valor aplicado a cada mês.\n",
        "    - taxa_juros (float): taxa de juros mensal (ex: 0.01 para 1% ao mês).\n",
        "    - meses (int): número total de meses.\n",
        "    - valor_inicial (float): capital inicial (opcional, padrão = 0).\n",
        "\n",
        "    Retorna:\n",
        "    - valor_final (float): montante acumulado ao final do período.\n",
        "    \"\"\"\n",
        "    montante = valor_inicial\n",
        "    for _ in range(meses):\n",
        "        montante = (montante + aporte_mensal) * (1 + taxa_juros)\n",
        "    return montante\n"
      ],
      "metadata": {
        "id": "M6L60WYfKZYR"
      },
      "execution_count": 13,
      "outputs": []
    },
    {
      "cell_type": "code",
      "source": [
        "# Exemplo: aplicar R$2000 por mês, durante 120 meses, a 0.8% ao mês\n",
        "resultado = juros_compostos(aporte_mensal=2000, taxa_juros=0.008, meses=120)\n",
        "print(f\"Valor final: R${resultado:,.2f}\")\n"
      ],
      "metadata": {
        "colab": {
          "base_uri": "https://localhost:8080/"
        },
        "id": "7X0IqNVzKlc6",
        "outputId": "6b002d61-95dd-43f4-a1da-7f4ae666f956"
      },
      "execution_count": 14,
      "outputs": [
        {
          "output_type": "stream",
          "name": "stdout",
          "text": [
            "Valor final: R$403,638.42\n"
          ]
        }
      ]
    },
    {
      "cell_type": "markdown",
      "source": [
        "Agora desenvolvo uma função que calcula o aporte mensal necessário apra um determinado resultado ao longo de um determinado tempo. Por exemplo se eu quiser 1.000.000 em dez anos."
      ],
      "metadata": {
        "id": "213HB0DELyIr"
      }
    },
    {
      "cell_type": "code",
      "source": [
        "def aporte_mensal_necessario(valor_futuro, taxa_juros, meses, valor_inicial=0):\n",
        "    \"\"\"\n",
        "    Calcula o aporte mensal necessário para atingir um valor futuro desejado\n",
        "    com juros compostos e capitalização mensal.\n",
        "\n",
        "    Parâmetros:\n",
        "    - valor_futuro (float): montante desejado ao final do período.\n",
        "    - taxa_juros (float): taxa de juros mensal (ex: 0.01 = 1% ao mês).\n",
        "    - meses (int): número total de meses.\n",
        "    - valor_inicial (float): capital inicial já investido (opcional).\n",
        "\n",
        "    Retorna:\n",
        "    - aporte_mensal (float): valor a ser aplicado mensalmente.\n",
        "    \"\"\"\n",
        "    fator = (1 + taxa_juros) ** meses\n",
        "    if taxa_juros == 0:\n",
        "        # Sem juros: apenas divisão direta\n",
        "        aporte = (valor_futuro - valor_inicial) / meses\n",
        "    else:\n",
        "        aporte = (valor_futuro - valor_inicial * fator) * (taxa_juros / (fator - 1))\n",
        "    return aporte\n"
      ],
      "metadata": {
        "id": "iG43W9z-L_r3"
      },
      "execution_count": 15,
      "outputs": []
    },
    {
      "cell_type": "code",
      "source": [
        "aporte = aporte_mensal_necessario(valor_futuro=1_000_000, taxa_juros=0.008, meses=120)\n",
        "print(f\"Aporte mensal necessário: R${aporte:,.2f}\")\n"
      ],
      "metadata": {
        "colab": {
          "base_uri": "https://localhost:8080/"
        },
        "id": "dc9jVm-NMM6Q",
        "outputId": "f3745a07-2cdc-4b1f-a910-a5c7f8a60df6"
      },
      "execution_count": 16,
      "outputs": [
        {
          "output_type": "stream",
          "name": "stdout",
          "text": [
            "Aporte mensal necessário: R$4,994.57\n"
          ]
        }
      ]
    },
    {
      "cell_type": "code",
      "source": [
        "aporte = aporte_mensal_necessario(valor_futuro=1_000_000, taxa_juros=0.01, meses=120)\n",
        "print(f\"Aporte mensal necessário: R${aporte:,.2f}\")"
      ],
      "metadata": {
        "colab": {
          "base_uri": "https://localhost:8080/"
        },
        "id": "GAhmlaUdMTRZ",
        "outputId": "a5430d14-2c5e-45a3-ad81-5f4443f516f4"
      },
      "execution_count": 17,
      "outputs": [
        {
          "output_type": "stream",
          "name": "stdout",
          "text": [
            "Aporte mensal necessário: R$4,347.09\n"
          ]
        }
      ]
    }
  ]
}