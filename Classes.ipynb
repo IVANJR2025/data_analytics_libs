{
  "nbformat": 4,
  "nbformat_minor": 0,
  "metadata": {
    "colab": {
      "provenance": [],
      "authorship_tag": "ABX9TyNjDzHrJVHsJTWE1kdqObZw",
      "include_colab_link": true
    },
    "kernelspec": {
      "name": "python3",
      "display_name": "Python 3"
    },
    "language_info": {
      "name": "python"
    }
  },
  "cells": [
    {
      "cell_type": "markdown",
      "metadata": {
        "id": "view-in-github",
        "colab_type": "text"
      },
      "source": [
        "<a href=\"https://colab.research.google.com/github/IVANJR2025/data_analytics_libs/blob/main/Classes.ipynb\" target=\"_parent\"><img src=\"https://colab.research.google.com/assets/colab-badge.svg\" alt=\"Open In Colab\"/></a>"
      ]
    },
    {
      "cell_type": "code",
      "execution_count": null,
      "metadata": {
        "id": "CaSyr8WdxTjJ"
      },
      "outputs": [],
      "source": []
    },
    {
      "cell_type": "markdown",
      "source": [
        "Vamos criar classes. Muito utilizado para diferenciar, p. exemplo quando eu quero uma lista amostral, mas que não seja a minha lista final"
      ],
      "metadata": {
        "id": "ylpDwi7l0IcG"
      }
    },
    {
      "cell_type": "code",
      "source": [
        "class amostras:\n",
        "  pass"
      ],
      "metadata": {
        "id": "L7BuNC200ZqL"
      },
      "execution_count": 1,
      "outputs": []
    },
    {
      "cell_type": "code",
      "source": [
        "#Criando uma abstração\n",
        "\n",
        "amostra1 = amostras()"
      ],
      "metadata": {
        "id": "0RE1IDeC0qLD"
      },
      "execution_count": 3,
      "outputs": []
    },
    {
      "cell_type": "code",
      "source": [
        "type(amostra1)"
      ],
      "metadata": {
        "colab": {
          "base_uri": "https://localhost:8080/"
        },
        "id": "1JhYGhlw04sz",
        "outputId": "6f037912-9b1e-4cd5-991f-66d39a760cfc"
      },
      "execution_count": 4,
      "outputs": [
        {
          "output_type": "execute_result",
          "data": {
            "text/plain": [
              "__main__.amostras"
            ]
          },
          "metadata": {},
          "execution_count": 4
        }
      ]
    },
    {
      "cell_type": "markdown",
      "source": [
        "Com estes códigos eu estou criando amostras, que possui um type amostra. Segue abaixo outros exemplos de amostras"
      ],
      "metadata": {
        "id": "5GBgjjLl1XRM"
      }
    },
    {
      "cell_type": "code",
      "source": [
        "class pessoas:\n",
        "  pass"
      ],
      "metadata": {
        "id": "cPgHisH-1foZ"
      },
      "execution_count": 5,
      "outputs": []
    },
    {
      "cell_type": "code",
      "source": [
        "João = pessoas()\n",
        "type(João)"
      ],
      "metadata": {
        "colab": {
          "base_uri": "https://localhost:8080/"
        },
        "id": "mG5LzpxM1naR",
        "outputId": "eba84961-77b3-44f4-aedc-557c26ce9062"
      },
      "execution_count": 7,
      "outputs": [
        {
          "output_type": "execute_result",
          "data": {
            "text/plain": [
              "__main__.pessoas"
            ]
          },
          "metadata": {},
          "execution_count": 7
        }
      ]
    },
    {
      "cell_type": "code",
      "source": [
        "Pedro = pessoas()\n",
        "type(Pedro)"
      ],
      "metadata": {
        "colab": {
          "base_uri": "https://localhost:8080/"
        },
        "id": "nUKUeNc315lU",
        "outputId": "c526a44b-b431-43b7-f937-acbf21a70577"
      },
      "execution_count": 8,
      "outputs": [
        {
          "output_type": "execute_result",
          "data": {
            "text/plain": [
              "__main__.pessoas"
            ]
          },
          "metadata": {},
          "execution_count": 8
        }
      ]
    },
    {
      "cell_type": "code",
      "source": [
        "class dog:\n",
        "  pass"
      ],
      "metadata": {
        "id": "1kAOW4z92FCr"
      },
      "execution_count": 10,
      "outputs": []
    },
    {
      "cell_type": "code",
      "source": [
        "Kratos = dog()\n",
        "type(Kratos)"
      ],
      "metadata": {
        "colab": {
          "base_uri": "https://localhost:8080/"
        },
        "id": "agBDrc7B2JfT",
        "outputId": "e70beca6-2f4e-4a21-cceb-51bad3c53c42"
      },
      "execution_count": 11,
      "outputs": [
        {
          "output_type": "execute_result",
          "data": {
            "text/plain": [
              "__main__.dog"
            ]
          },
          "metadata": {},
          "execution_count": 11
        }
      ]
    },
    {
      "cell_type": "code",
      "source": [
        "Pandora = dog()\n",
        "type(Pandora)"
      ],
      "metadata": {
        "colab": {
          "base_uri": "https://localhost:8080/"
        },
        "id": "0xgFC3Pm2Mvj",
        "outputId": "0d5e3b1e-a9e5-454c-e4bb-0df37651e33f"
      },
      "execution_count": 12,
      "outputs": [
        {
          "output_type": "execute_result",
          "data": {
            "text/plain": [
              "__main__.dog"
            ]
          },
          "metadata": {},
          "execution_count": 12
        }
      ]
    },
    {
      "cell_type": "code",
      "source": [
        "class Amostras:\n",
        "  def __init__(self, lista_dados):\n",
        "    self.dados = lista_dados"
      ],
      "metadata": {
        "id": "Kp3gY5dp3Sxd"
      },
      "execution_count": 14,
      "outputs": []
    },
    {
      "cell_type": "code",
      "source": [
        "amostra2 = Amostras([1,2,3,4,5])"
      ],
      "metadata": {
        "id": "a2u8fUJb3t8S"
      },
      "execution_count": 15,
      "outputs": []
    },
    {
      "cell_type": "code",
      "source": [
        "#Chamando o nome da variável que definimos o objeto estamos chamando o objeto\n",
        "amostra2"
      ],
      "metadata": {
        "colab": {
          "base_uri": "https://localhost:8080/"
        },
        "id": "rl3Pvn_V3-g4",
        "outputId": "83aa9fe1-99ae-455a-9c0d-85554246e533"
      },
      "execution_count": 16,
      "outputs": [
        {
          "output_type": "execute_result",
          "data": {
            "text/plain": [
              "<__main__.Amostras at 0x7a26af3d3c80>"
            ]
          },
          "metadata": {},
          "execution_count": 16
        }
      ]
    },
    {
      "cell_type": "code",
      "source": [
        "#Para acessar as propriedades de um objeto, basta o objeto seguido por ponto e nome da propriedade\n",
        "amostra2.dados"
      ],
      "metadata": {
        "colab": {
          "base_uri": "https://localhost:8080/"
        },
        "id": "aEQoy3qe4Ram",
        "outputId": "25b848b8-9a76-41a2-b3a5-bed2bbea6302"
      },
      "execution_count": 17,
      "outputs": [
        {
          "output_type": "execute_result",
          "data": {
            "text/plain": [
              "[1, 2, 3, 4, 5]"
            ]
          },
          "metadata": {},
          "execution_count": 17
        }
      ]
    },
    {
      "cell_type": "code",
      "source": [
        "#Exemplo da estrutura de dados de uma pessoa\n",
        "\n",
        "class Pessoa:\n",
        "  def __init__(self, nome, data_de_nascimento, profissão):\n",
        "    self.nome = nome\n",
        "    self.data_de_nascimento = data_de_nascimento\n",
        "    self.profissão = profissão"
      ],
      "metadata": {
        "id": "nMqMSGwT5GRY"
      },
      "execution_count": 18,
      "outputs": []
    },
    {
      "cell_type": "code",
      "source": [
        "Ivan = Pessoa('Ivan', '15/02/1979', 'Engenheiro')"
      ],
      "metadata": {
        "id": "Qv7h2n9c5z8m"
      },
      "execution_count": 19,
      "outputs": []
    },
    {
      "cell_type": "code",
      "source": [
        "Ivan.nome"
      ],
      "metadata": {
        "colab": {
          "base_uri": "https://localhost:8080/",
          "height": 35
        },
        "id": "rQwEPo7p6Dz_",
        "outputId": "c73cda42-e081-435e-8cd4-93954cb76d68"
      },
      "execution_count": 20,
      "outputs": [
        {
          "output_type": "execute_result",
          "data": {
            "text/plain": [
              "'Ivan'"
            ],
            "application/vnd.google.colaboratory.intrinsic+json": {
              "type": "string"
            }
          },
          "metadata": {},
          "execution_count": 20
        }
      ]
    },
    {
      "cell_type": "code",
      "source": [
        "Ivan.data_de_nascimento"
      ],
      "metadata": {
        "colab": {
          "base_uri": "https://localhost:8080/",
          "height": 35
        },
        "id": "HiohlI0N6G1G",
        "outputId": "07ad49b5-9b3a-4f05-caa5-d92169b2c45e"
      },
      "execution_count": 21,
      "outputs": [
        {
          "output_type": "execute_result",
          "data": {
            "text/plain": [
              "'15/02/1979'"
            ],
            "application/vnd.google.colaboratory.intrinsic+json": {
              "type": "string"
            }
          },
          "metadata": {},
          "execution_count": 21
        }
      ]
    },
    {
      "cell_type": "code",
      "source": [
        "Ivan.profissão"
      ],
      "metadata": {
        "colab": {
          "base_uri": "https://localhost:8080/",
          "height": 35
        },
        "id": "A2t1pZ7Z6JmX",
        "outputId": "29937ea1-4cd9-4b68-cf87-d6b71e1d7395"
      },
      "execution_count": 22,
      "outputs": [
        {
          "output_type": "execute_result",
          "data": {
            "text/plain": [
              "'Engenheiro'"
            ],
            "application/vnd.google.colaboratory.intrinsic+json": {
              "type": "string"
            }
          },
          "metadata": {},
          "execution_count": 22
        }
      ]
    },
    {
      "cell_type": "markdown",
      "source": [
        "CLASSES:\n",
        "O QUE É UM OBJETO?\n",
        "Objeto são estruturas que tem identidade e significado próprio que isoladamente terão suas próprias características, como empresas. Cada empresa pode ser considerada um objeto, pois tem sua marca, seus funcionários, seus processos. Porém podemos falar que existe a classe 'empresa', ou seja, é a generalização de cada empresa (tipo do objeto).\n",
        "Ex.: Empresa - Classe\n",
        "     Empresa x = objeto\n",
        "     Empresa y = objeto\n",
        "     Empresa z = objeto"
      ],
      "metadata": {
        "id": "MCoYsiFW70hM"
      }
    },
    {
      "cell_type": "code",
      "source": [
        "class Amostras:\n",
        "  def __init__(self, lista_dados):\n",
        "    self.dados = lista_dados\n",
        "\n",
        "  def media_amostral(self):\n",
        "    \"\"\"\n",
        "    Este método retorna a média amostral de uma amostra\n",
        "\n",
        "    :return media_amostral: média amostralda lista de dados da amostra\n",
        "\n",
        "    >>> amostra = Amostras([1,2,3,4,5])\n",
        "    >>> amostra.media_amostral()\n",
        "    3.0\n",
        "    \"\"\"\n",
        "    qtd_dados = len(self.dados)\n",
        "    soma_dados = sum(self.dados)\n",
        "    media_amostral = soma_dados/qtd_dados\n",
        "    return media_amostral\n",
        "\n",
        "  def qtd_elementos(self):\n",
        "    \"\"\"\n",
        "    Este método retorna a quantidade de elementos da amostra\n",
        "\n",
        "    :return qtd_elementos: quantidade de elementos da amostra\n",
        "\n",
        "    >>> amostra = Amostras([1,2,3,4,5])\n",
        "    >>> amostra.qtd_elementos()\n",
        "    5\n",
        "    \"\"\"\n",
        "    return len(self.dados)"
      ],
      "metadata": {
        "id": "zbEVMWSp8dj0"
      },
      "execution_count": 41,
      "outputs": []
    },
    {
      "cell_type": "code",
      "source": [
        "amostras = Amostras([10,23,33,45,100,0,9,13])\n",
        "amostras.media_amostral()\n",
        ""
      ],
      "metadata": {
        "colab": {
          "base_uri": "https://localhost:8080/"
        },
        "id": "QTrxWQoR_37l",
        "outputId": "e5a73185-71b7-4986-fe0a-9403f6526351"
      },
      "execution_count": 42,
      "outputs": [
        {
          "output_type": "execute_result",
          "data": {
            "text/plain": [
              "29.125"
            ]
          },
          "metadata": {},
          "execution_count": 42
        }
      ]
    },
    {
      "cell_type": "code",
      "source": [
        "amostras.qtd_elementos()"
      ],
      "metadata": {
        "colab": {
          "base_uri": "https://localhost:8080/"
        },
        "id": "GH_AMwSLCUcJ",
        "outputId": "46518b39-61ad-4b77-f7ff-01d896d10403"
      },
      "execution_count": 43,
      "outputs": [
        {
          "output_type": "execute_result",
          "data": {
            "text/plain": [
              "8"
            ]
          },
          "metadata": {},
          "execution_count": 43
        }
      ]
    },
    {
      "cell_type": "code",
      "source": [
        "amostra2 = Amostras([2,45,44,67,33,13])"
      ],
      "metadata": {
        "id": "i4-qz2J3Hz6R"
      },
      "execution_count": 45,
      "outputs": []
    },
    {
      "cell_type": "code",
      "source": [
        "amostra2.dados"
      ],
      "metadata": {
        "colab": {
          "base_uri": "https://localhost:8080/"
        },
        "id": "dWUltS8yIBkr",
        "outputId": "e05b2cf6-b903-4a69-fd5e-e944f03fcfc8"
      },
      "execution_count": 47,
      "outputs": [
        {
          "output_type": "execute_result",
          "data": {
            "text/plain": [
              "[2, 45, 44, 67, 33, 13]"
            ]
          },
          "metadata": {},
          "execution_count": 47
        }
      ]
    },
    {
      "cell_type": "code",
      "source": [
        "amostra2.media_amostral()"
      ],
      "metadata": {
        "colab": {
          "base_uri": "https://localhost:8080/"
        },
        "id": "pVg5XENCIdVD",
        "outputId": "e1119f6d-69cd-4057-81a2-97f90e0627f0"
      },
      "execution_count": 48,
      "outputs": [
        {
          "output_type": "execute_result",
          "data": {
            "text/plain": [
              "34.0"
            ]
          },
          "metadata": {},
          "execution_count": 48
        }
      ]
    },
    {
      "cell_type": "code",
      "source": [
        "amostra2.qtd_elementos()"
      ],
      "metadata": {
        "colab": {
          "base_uri": "https://localhost:8080/"
        },
        "id": "8ez7f_xPIgxb",
        "outputId": "3f582452-30c7-4005-83a9-d92efa8a8574"
      },
      "execution_count": 49,
      "outputs": [
        {
          "output_type": "execute_result",
          "data": {
            "text/plain": [
              "6"
            ]
          },
          "metadata": {},
          "execution_count": 49
        }
      ]
    }
  ]
}